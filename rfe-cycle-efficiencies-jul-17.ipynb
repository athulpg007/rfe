{
 "cells": [
  {
   "cell_type": "code",
   "execution_count": 1,
   "metadata": {},
   "outputs": [],
   "source": [
    "# Needs CoolProp, Python 3.7 or greater"
   ]
  },
  {
   "cell_type": "code",
   "execution_count": 2,
   "metadata": {},
   "outputs": [],
   "source": [
    "import CoolProp.CoolProp as cp\n",
    "import numpy as np"
   ]
  },
  {
   "cell_type": "code",
   "execution_count": 4,
   "metadata": {},
   "outputs": [],
   "source": [
    "class Brayton:\n",
    "    \"Implements the non-ideal regenerative, reheated-intercooled Brayton cycle.\"\n",
    "    \n",
    "    def __init__(self, T_low, T_high, P_low, p_ratio, fluid, \n",
    "                 eta_comp=0.85, eta_turb=0.90, eta_regen=0.90, del_T_HE=20,\n",
    "                 reheat_intercool=False,\n",
    "                 binary_mixture=False):\n",
    "        \"\"\"\n",
    "        Initializes the Brayton cycle object.\n",
    "\n",
    "        Parameters\n",
    "        ----------\n",
    "        T_low : float\n",
    "            compressor inlet temperature, K\n",
    "        T_high : float\n",
    "            turbine inlet temperature, K\n",
    "        P_low : float\n",
    "            compressor inlet pressure, Pa\n",
    "        p_ratio : float\n",
    "            compressor/turbine pressure ratio, > 1\n",
    "        fluid : str\n",
    "            working fluid, valid CoolProp material\n",
    "        eta_comp : float\n",
    "            compressor isentropic efficiency\n",
    "        eta_turb : float\n",
    "            turbine isentropic efficiency\n",
    "        eta_regen : float\n",
    "            regenerator efficiency\n",
    "        del_T_HE : float\n",
    "            temperature difference across Heat Exchanger\n",
    "        reheat_intercool : bool\n",
    "            enable or disable reheat-intercooling\n",
    "        binary_mixture : bool\n",
    "            must be set to True if 'fluid' is binary mixture\n",
    "            ex: 'Helium[0.5]&Xenon[0.5]'\n",
    "        \n",
    "        \"\"\"\n",
    "        self.T_low    = T_low\n",
    "        self.T_high   = T_high\n",
    "        self.P_low    = P_low\n",
    "        self.p_ratio  = p_ratio\n",
    "        self.fluid    = fluid\n",
    "        self.eta_comp = eta_comp\n",
    "        self.eta_turb = eta_turb\n",
    "        self.eta_regen= eta_regen\n",
    "        self.del_T_HE = del_T_HE\n",
    "        self.reheat_intercool = reheat_intercool\n",
    "        self.binary_mixture = binary_mixture\n",
    "        \n",
    "        if self.binary_mixture == False:\n",
    "            \n",
    "            self.CP    = cp.PropsSI('CP0MASS','T',self.T_low,'P',self.P_low, self.fluid) \n",
    "            self.CV    = cp.PropsSI('CVMASS', 'T',self.T_low,'P',self.P_low, self.fluid)\n",
    "            self.gamma = self.CP / self.CV\n",
    "        \n",
    "        elif self.binary_mixture == True:\n",
    "            \n",
    "            raise NotImplementedError(\"Can't use binary mixtures yet!\")\n",
    "\n",
    "        \n",
    "    def split_fluid(self, fluid):\n",
    "    \n",
    "        fluid_1 = fluid.split('[')[0]\n",
    "        fluid_2 = fluid.split('&')[1].split('[')[0]\n",
    "\n",
    "        return fluid_1, fluid_2\n",
    "               \n",
    "                \n",
    "    def compute(self, verbose=True):\n",
    "        \"\"\"\n",
    "        Computes and prints the state properties, heat rejection, and thermal efficiency.\n",
    "        \"\"\"\n",
    "        if self.reheat_intercool==False:\n",
    "            \n",
    "            # set initial state\n",
    "            self.T1 = self.T_low\n",
    "            self.P1 = self.P_low\n",
    "            self.H1 = cp.PropsSI('H','T',self.T_low,'P',self.P_low, self.fluid)\n",
    "            self.S1 = cp.PropsSI('S','T',self.T_low,'P',self.P_low, self.fluid)\n",
    "            \n",
    "            # compute conditions at state 2 (after compressor) for ideal isentropic compression\n",
    "            self.T2s = self.T1*(self.p_ratio**((self.gamma-1)/self.gamma))\n",
    "            self.P2s = self.P1*self.p_ratio\n",
    "\n",
    "            self.H2s     =  cp.PropsSI('H','T',self.T2s,'P',self.P2s, self.fluid)\n",
    "            \n",
    "            # ideal compressor work\n",
    "            self.comp_work_s = self.H2s - self.H1\n",
    "\n",
    "            # compute conditions at state 2 for actual compression\n",
    "\n",
    "            # actual compressor work\n",
    "            self.comp_work   = self.comp_work_s/self.eta_comp\n",
    "\n",
    "            # actual enthalpy at state 2\n",
    "            self.H2 = self.H1 + self.comp_work\n",
    "\n",
    "            self.T2     = cp.PropsSI('T','H', self.H2, 'P',self.P2s, self.fluid)\n",
    "            self.P2     = self.P2s\n",
    "            self.H2     = self.H2\n",
    "            self.S2     = cp.PropsSI('S','H', self.H2, 'P',self.P2s, self.fluid)\n",
    "            \n",
    "            # compute conditions at state 4 (combustor)\n",
    "            self.T4     = self.T_high\n",
    "            self.P4     = self.P2\n",
    "            self.H4     = cp.PropsSI('H','T',self.T_high,'P',self.P2, self.fluid)\n",
    "            self.S4     = cp.PropsSI('S','T',self.T_high,'P',self.P2, self.fluid)\n",
    "            \n",
    "            # compute conditions at state 5 (after turbine), assuming isentropic conditions\n",
    "            self.P5s = self.P4*(1.0/self.p_ratio)\n",
    "\n",
    "            self.H5s     =  cp.PropsSI('H','S',self.S4,'P', self.P5s, self.fluid)\n",
    "            self.T5s     =  cp.PropsSI('T','S',self.S4,'P', self.P5s, self.fluid)\n",
    "\n",
    "            # ideal turbine work\n",
    "            self.turb_work_s =  self.H4 - self.H5s\n",
    "\n",
    "            # actual turbine work\n",
    "            self.turb_work   = self.turb_work_s*self.eta_turb\n",
    "\n",
    "            # actual enthalpy at state 5\n",
    "            self.H5 = self.H4 - self.turb_work\n",
    "\n",
    "            self.T5     = cp.PropsSI('T','H',self.H5, 'P', self.P5s, self.fluid)\n",
    "            self.P5     = self.P5s\n",
    "            self.H5     = self.H5\n",
    "            self.S5     = cp.PropsSI('S','H', self.H5, 'P',self.P5s, self.fluid)\n",
    "            \n",
    "            # ideal regeneration\n",
    "            self.q_regen_ideal = self.H5 - self.H2\n",
    "\n",
    "            # actual regeneration\n",
    "            self.q_regen_act   = self.eta_regen*self.q_regen_ideal\n",
    "\n",
    "            #conditions at state 6 (after heat extraction by regenerator)\n",
    "            self.T6     = cp.PropsSI('T','H',self.H5 - self.q_regen_act, 'P', self.P1, self.fluid)\n",
    "            self.P6     = self.P1\n",
    "            self.H6     = self.H5 - self.q_regen_act\n",
    "            self.S6     = cp.PropsSI('S','H',self.H5 - self.q_regen_act, 'P', self.P1, self.fluid)\n",
    "            \n",
    "            \n",
    "            # conditions at state 3 (before combustor)\n",
    "            self.T3     = cp.PropsSI('T','H',self.H2 + self.q_regen_act, 'P', self.P2, self.fluid)\n",
    "            self.P3     = self.P2\n",
    "            self.H3     = self.H2 + self.q_regen_act\n",
    "            self.S3     = cp.PropsSI('S','H',self.H2 + self.q_regen_act, 'P', self.P2, self.fluid)\n",
    "            \n",
    "            # compute cycle efficiency\n",
    "\n",
    "            self.work_net = self.turb_work - self.comp_work\n",
    "            self.heat_in  = self.H4 - self.H3\n",
    "            self.heat_out = self.H6 - self.H1\n",
    "\n",
    "            self.eff = self.work_net / self.heat_in\n",
    "              \n",
    "        \n",
    "            if verbose==True:\n",
    "\n",
    "                print(\"State %1d, P:  %1.1f kPa, T: %1d K, h: %1d kJ/kg, s: %1.2f kJ/kg\" % (1, self.P1/1e3, self.T1, self.H1/1e3, self.S1/1e3))\n",
    "                print(\"State %1d, P: %1.1f kPa, T: %1d K, h: %1d kJ/kg, s: %1.2f kJ/kg\" % (2, self.P2/1e3, self.T2, self.H2/1e3, self.S2/1e3))\n",
    "                print(\"State %1d, P:  %1.1f kPa, T: %1d K, h: %1d kJ/kg, s: %1.2f kJ/kg\" % (3, self.P3/1e3, self.T3, self.H3/1e3, self.S3/1e3))\n",
    "                print(\"State %1d, P: %1.1f kPa, T: %1d K, h: %1d kJ/kg, s: %1.2f kJ/kg\" % (4, self.P4/1e3, self.T4, self.H4/1e3, self.S4/1e3))\n",
    "                print(\"State %1d, P:  %1.1f kPa, T: %1d K, h: %1d kJ/kg, s: %1.2f kJ/kg\" % (5, self.P5/1e3, self.T5, self.H5/1e3, self.S5/1e3))\n",
    "                print(\"State %1d, P:  %1.1f kPa, T: %1d K, h: %1d kJ/kg, s: %1.2f kJ/kg\" % (6, self.P6/1e3, self.T6, self.H6/1e3, self.S6/1e3))\n",
    "                print(\"-------------------------------------------------------------------\")\n",
    "                print(\"Heat Input : %1d kJ/kg\" % (self.heat_in/1e3))\n",
    "                print(\"Net Work   : %1d kJ/kg\" % (self.work_net/1e3))\n",
    "                print(\"Heat Output: %1d kJ/kg\" % (self.heat_out/1e3))\n",
    "                print(\"-------------------------------------------------------------------\")\n",
    "                print(\"Cycle Efficiency: %2.3f \" % (self.eff))\n",
    "                \n",
    "        elif self.reheat_intercool==True:\n",
    "            \n",
    "            self.T1 = self.T_low\n",
    "            self.P1 = self.P_low\n",
    "            self.H1 = cp.PropsSI('H','T',self.T_low,'P',self.P_low, self.fluid)\n",
    "            self.S1 = cp.PropsSI('S','T',self.T_low,'P',self.P_low, self.fluid)\n",
    "            \n",
    "            # compute conditions at state 2 (compressor 1) for ideal isentropic compression\n",
    "            self.T2s = self.T1*(np.sqrt(self.p_ratio)**((self.gamma-1)/self.gamma))\n",
    "            self.P2s = self.P1*np.sqrt(self.p_ratio)\n",
    "\n",
    "            self.H2s     =  cp.PropsSI('H','T',self.T2s,'P',self.P2s, self.fluid)\n",
    "            \n",
    "            # ideal compressor work\n",
    "            self.comp1_work_s = self.H2s - self.H1\n",
    "            \n",
    "            # actual compressor 1 work\n",
    "            self.comp1_work   = self.comp1_work_s/self.eta_comp\n",
    "\n",
    "            # actual enthalpy at state 2\n",
    "            self.H2 = self.H1 + self.comp1_work\n",
    "\n",
    "            self.T2     = cp.PropsSI('T','H', self.H2, 'P',self.P2s, self.fluid)\n",
    "            self.P2     = self.P2s\n",
    "            self.H2     = self.H2\n",
    "            self.S2     = cp.PropsSI('S','H', self.H2, 'P',self.P2s, self.fluid)\n",
    "            \n",
    "            # state 3: intercooling to temperature T1, pressure P2.\n",
    "            self.T3     = self.T1\n",
    "            self.P3     = self.P2\n",
    "            self.H3     = cp.PropsSI('H','T',self.T3,'P',self.P2, self.fluid)\n",
    "            self.S3     = cp.PropsSI('S','T',self.T3,'P',self.P2, self.fluid)\n",
    "            \n",
    "            # state 4: second stage compression\n",
    "            \n",
    "            # compute conditions at state 4 (compressor 2) for ideal isentropic compression\n",
    "            self.T4s = self.T3*(np.sqrt(self.p_ratio)**((self.gamma-1)/self.gamma))\n",
    "            self.P4s = self.P3*np.sqrt(self.p_ratio)\n",
    "\n",
    "            self.H4s     =  cp.PropsSI('H','T',self.T4s,'P',self.P4s, self.fluid)\n",
    "            \n",
    "            # ideal compressor 2 work\n",
    "            self.comp2_work_s = self.H4s - self.H3\n",
    "            \n",
    "            # compute conditions at state 4 for actual compression\n",
    "\n",
    "            # actual compressor 2 work\n",
    "            self.comp2_work   = self.comp2_work_s/self.eta_comp\n",
    "\n",
    "            # actual enthalpy at state 4\n",
    "            self.H4 = self.H3 + self.comp2_work\n",
    "            \n",
    "            self.T4     = cp.PropsSI('T','H', self.H4, 'P',self.P4s, self.fluid)\n",
    "            self.P4     = self.P4s\n",
    "            self.H4     = self.H4\n",
    "            self.S4     = cp.PropsSI('S','H', self.H4, 'P',self.P4s, self.fluid)\n",
    "            \n",
    "            # compute conditions at state 6\n",
    "            self.T6     = self.T_high\n",
    "            self.P6     = self.P4\n",
    "            self.H6     = cp.PropsSI('H','T',self.T_high,'P',self.P4, self.fluid)\n",
    "            self.S6     = cp.PropsSI('S','T',self.T_high,'P',self.P4, self.fluid)\n",
    "            \n",
    "            # compute conditions at state 7, assuming isentropic conditions\n",
    "            self.P7s = self.P4*(1.0/np.sqrt(self.p_ratio))\n",
    "\n",
    "            self.H7s     =  cp.PropsSI('H','S',self.S6,'P', self.P7s, self.fluid)\n",
    "            self.T7s     =  cp.PropsSI('T','S',self.S6,'P', self.P7s, self.fluid)\n",
    "\n",
    "            # ideal turbine 1 work\n",
    "            self.turb1_work_s =  self.H6 - self.H7s\n",
    "            \n",
    "            # actual turbine 1 work\n",
    "            self.turb1_work   = self.turb1_work_s*self.eta_turb\n",
    "            \n",
    "            # actual enthalpy at state 7\n",
    "            self.H7 = self.H6 - self.turb1_work\n",
    "\n",
    "            self.T7     = cp.PropsSI('T','H',self.H7, 'P', self.P7s, self.fluid)\n",
    "            self.P7     = self.P7s\n",
    "            self.H7     = self.H7\n",
    "            self.S7     = cp.PropsSI('S','H', self.H7, 'P',self.P7s, self.fluid)\n",
    "            \n",
    "            # state 8: reheat to T_max, at pressure P7\n",
    "            self.T8     = self.T_high\n",
    "            self.P8     = self.P7\n",
    "            self.H8     = cp.PropsSI('H','T',self.T_high,'P', self.P7, self.fluid)\n",
    "            self.S8     = cp.PropsSI('S','T',self.T_high,'P', self.P7, self.fluid)\n",
    "            \n",
    "            self.q_reheat = self.H8 - self.H7\n",
    "            \n",
    "            # compute conditions at state 9, assuming isentropic conditions\n",
    "            self.P9s = self.P8*(1.0/np.sqrt(self.p_ratio))\n",
    "            \n",
    "            self.H9s     =  cp.PropsSI('H','S',self.S8,'P', self.P9s, self.fluid)\n",
    "            self.T9s     =  cp.PropsSI('T','S',self.S8,'P', self.P9s, self.fluid)\n",
    "\n",
    "            # ideal turbine 2 work\n",
    "            self.turb2_work_s =  self.H8 - self.H9s\n",
    "            \n",
    "            # actual turbine 1 work\n",
    "            self.turb2_work   = self.turb2_work_s*self.eta_turb\n",
    "\n",
    "            # actual enthalpy at state 9\n",
    "            self.H9 = self.H8 - self.turb2_work\n",
    "\n",
    "            #self.gas.HP = self.H9, self.P9s\n",
    "\n",
    "            self.T9     = cp.PropsSI('T','H',self.H9, 'P', self.P9s, self.fluid)\n",
    "            self.P9     = self.P9s\n",
    "            self.H9     = self.H9\n",
    "            self.S9     = cp.PropsSI('S','H', self.H9, 'P',self.P9s, self.fluid)\n",
    "            \n",
    "            # ideal regeneration\n",
    "            self.q_regen_ideal = self.H9 - self.H4\n",
    "\n",
    "            # actual regeneration\n",
    "            self.q_regen_act   = self.eta_regen*self.q_regen_ideal\n",
    "\n",
    "            #conditions at state 10\n",
    "            self.T10     = cp.PropsSI('T','H',self.H9 - self.q_regen_act, 'P', self.P1, self.fluid)\n",
    "            self.P10     = self.P1\n",
    "            self.H10     = self.H9 - self.q_regen_act\n",
    "            self.S10     = cp.PropsSI('S','H',self.H9 - self.q_regen_act, 'P', self.P1, self.fluid)\n",
    "            \n",
    "            # conditions at state 5\n",
    "            self.T5     = cp.PropsSI('T','H',self.H2 + self.q_regen_act, 'P', self.P4, self.fluid)\n",
    "            self.P5     = self.P4\n",
    "            self.H5     = self.H2 + self.q_regen_act\n",
    "            self.S5     = cp.PropsSI('S','H',self.H2 + self.q_regen_act, 'P', self.P4, self.fluid)\n",
    "            \n",
    "            # compute cycle efficiency\n",
    "\n",
    "            self.work_net = self.turb1_work + self.turb2_work - self.comp1_work - self.comp2_work\n",
    "            self.heat_in  = self.H6 - self.H5 + self.H8 - self.H7\n",
    "            self.heat_out = self.H10 - self.H1\n",
    "\n",
    "            self.eff = self.work_net / self.heat_in\n",
    "        \n",
    "            \n",
    "            if verbose==True:\n",
    "\n",
    "                print(\"State %1d, P:  %1.1f kPa, T: %1d K, h: %1d kJ/kg, s: %1.2f kJ/kg\" % (1, self.P1/1e3, self.T1, self.H1/1e3, self.S1/1e3))\n",
    "                print(\"State %1d, P: %1.1f kPa, T: %1d K, h: %1d kJ/kg, s: %1.2f kJ/kg\" % (2, self.P2/1e3, self.T2, self.H2/1e3, self.S2/1e3))\n",
    "                print(\"State %1d, P:  %1.1f kPa, T: %1d K, h: %1d kJ/kg, s: %1.2f kJ/kg\" % (3, self.P3/1e3, self.T3, self.H3/1e3, self.S3/1e3))\n",
    "                print(\"State %1d, P: %1.1f kPa, T: %1d K, h: %1d kJ/kg, s: %1.2f kJ/kg\" % (4, self.P4/1e3, self.T4, self.H4/1e3, self.S4/1e3))\n",
    "                print(\"State %1d, P:  %1.1f kPa, T: %1d K, h: %1d kJ/kg, s: %1.2f kJ/kg\" % (5, self.P5/1e3, self.T5, self.H5/1e3, self.S5/1e3))\n",
    "                print(\"State %1d, P:  %1.1f kPa, T: %1d K, h: %1d kJ/kg, s: %1.2f kJ/kg\" % (6, self.P6/1e3, self.T6, self.H6/1e3, self.S6/1e3))\n",
    "                print(\"State %1d, P:  %1.1f kPa, T: %1d K, h: %1d kJ/kg, s: %1.2f kJ/kg\" % (7, self.P7/1e3, self.T7, self.H7/1e3, self.S7/1e3))\n",
    "                print(\"State %1d, P:  %1.1f kPa, T: %1d K, h: %1d kJ/kg, s: %1.2f kJ/kg\" % (8, self.P8/1e3, self.T8, self.H8/1e3, self.S8/1e3))\n",
    "                print(\"State %1d, P:  %1.1f kPa, T: %1d K, h: %1d kJ/kg, s: %1.2f kJ/kg\" % (9, self.P9/1e3, self.T9, self.H9/1e3, self.S9/1e3))\n",
    "                print(\"State %1d, P:  %1.1f kPa, T: %1d K, h: %1d kJ/kg, s: %1.2f kJ/kg\" % (10, self.P10/1e3, self.T10, self.H10/1e3, self.S10/1e3))\n",
    "                print(\"-------------------------------------------------------------------\")\n",
    "                print(\"Heat Input : %1d kJ/kg\" % (self.heat_in/1e3))\n",
    "                print(\"Net Work   : %1d kJ/kg\" % (self.work_net/1e3))\n",
    "                print(\"Heat Output: %1d kJ/kg\" % (self.heat_out/1e3))\n",
    "                print(\"-------------------------------------------------------------------\")\n",
    "                print(\"Cycle Efficiency: %2.3f \" % (self.eff))"
   ]
  },
  {
   "cell_type": "code",
   "execution_count": 5,
   "metadata": {},
   "outputs": [
    {
     "name": "stdout",
     "output_type": "stream",
     "text": [
      "State 1, P:  101.3 kPa, T: 200 K, h: 206 kJ/kg, s: 6.42 kJ/kg\n",
      "State 2, P: 1013.0 kPa, T: 385 K, h: 399 kJ/kg, s: 6.42 kJ/kg\n",
      "State 3, P:  1013.0 kPa, T: 385 K, h: 399 kJ/kg, s: 6.42 kJ/kg\n",
      "State 4, P: 1013.0 kPa, T: 1500 K, h: 1681 kJ/kg, s: 7.95 kJ/kg\n",
      "State 5, P:  101.3 kPa, T: 844 K, h: 897 kJ/kg, s: 7.95 kJ/kg\n",
      "State 6, P:  101.3 kPa, T: 844 K, h: 897 kJ/kg, s: 7.95 kJ/kg\n",
      "-------------------------------------------------------------------\n",
      "Heat Input : 1282 kJ/kg\n",
      "Net Work   : 592 kJ/kg\n",
      "Heat Output: 690 kJ/kg\n",
      "-------------------------------------------------------------------\n",
      "Cycle Efficiency: 0.462 \n"
     ]
    }
   ],
   "source": [
    "# This example computes the results from Table 4 of Toro and Lior (2017) for N2 working fluid.\n",
    "# Validation Case, ideal, no reheat-intercooling, no regeneration\n",
    "Brayton1 = Brayton(T_low=200, T_high=1500, \n",
    "                   P_low=101.3e3, p_ratio=10, \n",
    "                   eta_comp=1.0, eta_turb=1.0,eta_regen=0.00,\n",
    "                   fluid='Nitrogen')\n",
    "Brayton1.compute()"
   ]
  },
  {
   "cell_type": "code",
   "execution_count": 6,
   "metadata": {},
   "outputs": [
    {
     "name": "stdout",
     "output_type": "stream",
     "text": [
      "State 1, P:  101.3 kPa, T: 200 K, h: 206 kJ/kg, s: 6.42 kJ/kg\n",
      "State 2, P: 1013.0 kPa, T: 405 K, h: 420 kJ/kg, s: 6.47 kJ/kg\n",
      "State 3, P:  1013.0 kPa, T: 405 K, h: 420 kJ/kg, s: 6.47 kJ/kg\n",
      "State 4, P: 1013.0 kPa, T: 1500 K, h: 1681 kJ/kg, s: 7.95 kJ/kg\n",
      "State 5, P:  101.3 kPa, T: 913 K, h: 975 kJ/kg, s: 8.04 kJ/kg\n",
      "State 6, P:  101.3 kPa, T: 913 K, h: 975 kJ/kg, s: 8.04 kJ/kg\n",
      "-------------------------------------------------------------------\n",
      "Heat Input : 1261 kJ/kg\n",
      "Net Work   : 492 kJ/kg\n",
      "Heat Output: 768 kJ/kg\n",
      "-------------------------------------------------------------------\n",
      "Cycle Efficiency: 0.391 \n"
     ]
    }
   ],
   "source": [
    "# This example computes the results from Table 4 of Toro and Lior (2017) for N2 working fluid.\n",
    "# Validation Case, non-ideal, no reheat-intercooling, no regeneration\n",
    "Brayton2 = Brayton(T_low=200, T_high=1500, \n",
    "                   P_low=101.3e3, p_ratio=10, \n",
    "                   eta_comp=0.9, eta_turb=0.9,eta_regen=0.00,\n",
    "                   fluid='Nitrogen')\n",
    "Brayton2.compute()"
   ]
  },
  {
   "cell_type": "code",
   "execution_count": 7,
   "metadata": {},
   "outputs": [
    {
     "name": "stdout",
     "output_type": "stream",
     "text": [
      "State 1, P:  101.3 kPa, T: 200 K, h: 206 kJ/kg, s: 6.42 kJ/kg\n",
      "State 2, P: 1013.0 kPa, T: 405 K, h: 420 kJ/kg, s: 6.47 kJ/kg\n",
      "State 3, P:  1013.0 kPa, T: 864 K, h: 920 kJ/kg, s: 7.29 kJ/kg\n",
      "State 4, P: 1013.0 kPa, T: 1500 K, h: 1681 kJ/kg, s: 7.95 kJ/kg\n",
      "State 5, P:  101.3 kPa, T: 913 K, h: 975 kJ/kg, s: 8.04 kJ/kg\n",
      "State 6, P:  101.3 kPa, T: 457 K, h: 476 kJ/kg, s: 7.28 kJ/kg\n",
      "-------------------------------------------------------------------\n",
      "Heat Input : 761 kJ/kg\n",
      "Net Work   : 492 kJ/kg\n",
      "Heat Output: 269 kJ/kg\n",
      "-------------------------------------------------------------------\n",
      "Cycle Efficiency: 0.647 \n"
     ]
    }
   ],
   "source": [
    "# This example computes the results from Table 4 of Toro and Lior (2017) for N2 working fluid.\n",
    "# Validation Case: non-ideal, no reheat-intercooling, with regeneration\n",
    "Brayton3 = Brayton(T_low=200, T_high=1500, \n",
    "                   P_low=101.3e3, p_ratio=10, \n",
    "                   eta_comp=0.9, eta_turb=0.9,eta_regen=0.90,\n",
    "                   fluid='Nitrogen')\n",
    "Brayton3.compute()"
   ]
  },
  {
   "cell_type": "code",
   "execution_count": 8,
   "metadata": {},
   "outputs": [
    {
     "name": "stdout",
     "output_type": "stream",
     "text": [
      "State 1, P:  101.3 kPa, T: 200 K, h: 2557 kJ/kg, s: 47.79 kJ/kg\n",
      "State 2, P: 1013.0 kPa, T: 425 K, h: 5777 kJ/kg, s: 49.01 kJ/kg\n",
      "State 3, P:  1013.0 kPa, T: 831 K, h: 11698 kJ/kg, s: 58.77 kJ/kg\n",
      "State 4, P: 1013.0 kPa, T: 1500 K, h: 21946 kJ/kg, s: 67.78 kJ/kg\n",
      "State 5, P:  101.3 kPa, T: 876 K, h: 12356 kJ/kg, s: 69.05 kJ/kg\n",
      "State 6, P:  101.3 kPa, T: 471 K, h: 6435 kJ/kg, s: 59.99 kJ/kg\n",
      "-------------------------------------------------------------------\n",
      "Heat Input : 10248 kJ/kg\n",
      "Net Work   : 6370 kJ/kg\n",
      "Heat Output: 3878 kJ/kg\n",
      "-------------------------------------------------------------------\n",
      "Cycle Efficiency: 0.622 \n"
     ]
    }
   ],
   "source": [
    "# This example computes the results from Table 4 of Toro and Lior (2017) for N2 working fluid.\n",
    "# Validation Case: Non-ideal Brayton, with regeneration (H2)\n",
    "Brayton4 = Brayton(T_low=200, T_high=1500, \n",
    "                   P_low=101.3e3, p_ratio=10, \n",
    "                   eta_comp=0.9, eta_turb=0.9,eta_regen=0.90,\n",
    "                   fluid='Hydrogen')\n",
    "Brayton4.compute()"
   ]
  },
  {
   "cell_type": "code",
   "execution_count": 9,
   "metadata": {},
   "outputs": [
    {
     "name": "stdout",
     "output_type": "stream",
     "text": [
      "State 1, P:  101.3 kPa, T: 300 K, h: 426 kJ/kg, s: 3.89 kJ/kg\n",
      "State 2, P: 286.5 kPa, T: 403 K, h: 530 kJ/kg, s: 3.89 kJ/kg\n",
      "State 3, P:  286.5 kPa, T: 300 K, h: 425 kJ/kg, s: 3.59 kJ/kg\n",
      "State 4, P: 810.4 kPa, T: 403 K, h: 530 kJ/kg, s: 3.59 kJ/kg\n",
      "State 5, P:  810.4 kPa, T: 404 K, h: 530 kJ/kg, s: 3.59 kJ/kg\n",
      "State 6, P:  810.4 kPa, T: 1300 K, h: 1522 kJ/kg, s: 4.86 kJ/kg\n",
      "State 7, P:  286.5 kPa, T: 1006 K, h: 1179 kJ/kg, s: 4.86 kJ/kg\n",
      "State 8, P:  286.5 kPa, T: 1300 K, h: 1522 kJ/kg, s: 5.16 kJ/kg\n",
      "State 9, P:  101.3 kPa, T: 1006 K, h: 1179 kJ/kg, s: 5.16 kJ/kg\n",
      "State 10, P:  101.3 kPa, T: 1006 K, h: 1179 kJ/kg, s: 5.16 kJ/kg\n",
      "-------------------------------------------------------------------\n",
      "Heat Input : 1334 kJ/kg\n",
      "Net Work   : 477 kJ/kg\n",
      "Heat Output: 753 kJ/kg\n",
      "-------------------------------------------------------------------\n",
      "Cycle Efficiency: 0.357 \n"
     ]
    }
   ],
   "source": [
    "# Example 9-8 Cengel and Boles\n",
    "# Validation case: ideal, with reheat, intercooling, no regeneration\n",
    "Brayton5 = Brayton(T_low=300, T_high=1300, \n",
    "                   P_low=101.3e3, p_ratio=8, \n",
    "                   eta_comp=1.0, eta_turb=1.0,eta_regen=0.00,\n",
    "                   fluid='Air', reheat_intercool=True)\n",
    "Brayton5.compute()"
   ]
  },
  {
   "cell_type": "code",
   "execution_count": 10,
   "metadata": {},
   "outputs": [
    {
     "name": "stdout",
     "output_type": "stream",
     "text": [
      "State 1, P:  101.3 kPa, T: 300 K, h: 426 kJ/kg, s: 3.89 kJ/kg\n",
      "State 2, P: 286.5 kPa, T: 403 K, h: 530 kJ/kg, s: 3.89 kJ/kg\n",
      "State 3, P:  286.5 kPa, T: 300 K, h: 425 kJ/kg, s: 3.59 kJ/kg\n",
      "State 4, P: 810.4 kPa, T: 403 K, h: 530 kJ/kg, s: 3.59 kJ/kg\n",
      "State 5, P:  810.4 kPa, T: 1006 K, h: 1180 kJ/kg, s: 4.56 kJ/kg\n",
      "State 6, P:  810.4 kPa, T: 1300 K, h: 1522 kJ/kg, s: 4.86 kJ/kg\n",
      "State 7, P:  286.5 kPa, T: 1006 K, h: 1179 kJ/kg, s: 4.86 kJ/kg\n",
      "State 8, P:  286.5 kPa, T: 1300 K, h: 1522 kJ/kg, s: 5.16 kJ/kg\n",
      "State 9, P:  101.3 kPa, T: 1006 K, h: 1179 kJ/kg, s: 5.16 kJ/kg\n",
      "State 10, P:  101.3 kPa, T: 402 K, h: 530 kJ/kg, s: 4.18 kJ/kg\n",
      "-------------------------------------------------------------------\n",
      "Heat Input : 685 kJ/kg\n",
      "Net Work   : 477 kJ/kg\n",
      "Heat Output: 103 kJ/kg\n",
      "-------------------------------------------------------------------\n",
      "Cycle Efficiency: 0.696 \n"
     ]
    }
   ],
   "source": [
    "# Example 9-8 Cengel and Boles\n",
    "# Validation case: ideal, with reheat, intercooling, with ideal regeneration\n",
    "Brayton6 = Brayton(T_low=300, T_high=1300, \n",
    "                   P_low=101.3e3, p_ratio=8, \n",
    "                   eta_comp=1.0, eta_turb=1.0,eta_regen=1.00,\n",
    "                   fluid='Air', reheat_intercool=True)\n",
    "Brayton6.compute()"
   ]
  },
  {
   "cell_type": "code",
   "execution_count": 11,
   "metadata": {},
   "outputs": [
    {
     "name": "stdout",
     "output_type": "stream",
     "text": [
      "State 1, P:  101.3 kPa, T: 200 K, h: 206 kJ/kg, s: 6.42 kJ/kg\n",
      "State 2, P: 320.3 kPa, T: 288 K, h: 298 kJ/kg, s: 6.46 kJ/kg\n",
      "State 3, P:  320.3 kPa, T: 200 K, h: 205 kJ/kg, s: 6.07 kJ/kg\n",
      "State 4, P: 1013.0 kPa, T: 287 K, h: 296 kJ/kg, s: 6.11 kJ/kg\n",
      "State 5, P:  1013.0 kPa, T: 1089 K, h: 1181 kJ/kg, s: 7.56 kJ/kg\n",
      "State 6, P:  1013.0 kPa, T: 1500 K, h: 1681 kJ/kg, s: 7.95 kJ/kg\n",
      "State 7, P:  320.3 kPa, T: 1170 K, h: 1278 kJ/kg, s: 7.99 kJ/kg\n",
      "State 8, P:  320.3 kPa, T: 1500 K, h: 1680 kJ/kg, s: 8.29 kJ/kg\n",
      "State 9, P:  101.3 kPa, T: 1170 K, h: 1277 kJ/kg, s: 8.33 kJ/kg\n",
      "State 10, P:  101.3 kPa, T: 379 K, h: 394 kJ/kg, s: 7.09 kJ/kg\n",
      "-------------------------------------------------------------------\n",
      "Heat Input : 902 kJ/kg\n",
      "Net Work   : 624 kJ/kg\n",
      "Heat Output: 187 kJ/kg\n",
      "-------------------------------------------------------------------\n",
      "Cycle Efficiency: 0.692 \n"
     ]
    }
   ],
   "source": [
    "# table 9 from Toro and Lior (2017) Table 9: non-ideal, regenerative-intercooled-reheated Brayton\n",
    "Brayton7 = Brayton(T_low=200, T_high=1500, \n",
    "                   P_low=101.3e3, p_ratio=10, \n",
    "                   eta_comp=0.88, eta_turb=0.90, eta_regen=0.90,\n",
    "                   fluid='Nitrogen', reheat_intercool=True)\n",
    "Brayton7.compute()"
   ]
  },
  {
   "cell_type": "code",
   "execution_count": 12,
   "metadata": {},
   "outputs": [
    {
     "name": "stdout",
     "output_type": "stream",
     "text": [
      "State 1, P:  101.3 kPa, T: 298 K, h: 424 kJ/kg, s: 3.88 kJ/kg\n",
      "State 2, P: 1013.0 kPa, T: 622 K, h: 756 kJ/kg, s: 3.97 kJ/kg\n",
      "State 3, P:  1013.0 kPa, T: 830 K, h: 982 kJ/kg, s: 4.28 kJ/kg\n",
      "State 4, P: 1013.0 kPa, T: 1500 K, h: 1763 kJ/kg, s: 4.97 kJ/kg\n",
      "State 5, P:  101.3 kPa, T: 917 K, h: 1079 kJ/kg, s: 5.06 kJ/kg\n",
      "State 6, P:  101.3 kPa, T: 712 K, h: 853 kJ/kg, s: 4.78 kJ/kg\n",
      "-------------------------------------------------------------------\n",
      "Heat Input : 780 kJ/kg\n",
      "Net Work   : 351 kJ/kg\n",
      "Heat Output: 429 kJ/kg\n",
      "-------------------------------------------------------------------\n",
      "Cycle Efficiency: 0.450 \n"
     ]
    }
   ],
   "source": [
    "# table 16 from Toro and Lior (2017): Regenerative-Brayton on Earth\n",
    "Brayton8 = Brayton(T_low=298, T_high=1500, \n",
    "                   P_low=101.3e3, p_ratio=10, \n",
    "                   eta_comp=0.85, eta_turb=0.90, eta_regen=0.70,\n",
    "                   fluid='Air')\n",
    "Brayton8.compute()"
   ]
  },
  {
   "cell_type": "code",
   "execution_count": 13,
   "metadata": {},
   "outputs": [
    {
     "name": "stdout",
     "output_type": "stream",
     "text": [
      "State 1, P:  101.3 kPa, T: 298 K, h: 424 kJ/kg, s: 3.88 kJ/kg\n",
      "State 2, P: 320.3 kPa, T: 434 K, h: 561 kJ/kg, s: 3.93 kJ/kg\n",
      "State 3, P:  320.3 kPa, T: 298 K, h: 423 kJ/kg, s: 3.55 kJ/kg\n",
      "State 4, P: 1013.0 kPa, T: 434 K, h: 561 kJ/kg, s: 3.60 kJ/kg\n",
      "State 5, P:  1013.0 kPa, T: 1033 K, h: 1210 kJ/kg, s: 4.53 kJ/kg\n",
      "State 6, P:  1013.0 kPa, T: 1500 K, h: 1763 kJ/kg, s: 4.97 kJ/kg\n",
      "State 7, P:  320.3 kPa, T: 1173 K, h: 1372 kJ/kg, s: 5.01 kJ/kg\n",
      "State 8, P:  320.3 kPa, T: 1500 K, h: 1762 kJ/kg, s: 5.30 kJ/kg\n",
      "State 9, P:  101.3 kPa, T: 1172 K, h: 1372 kJ/kg, s: 5.34 kJ/kg\n",
      "State 10, P:  101.3 kPa, T: 590 K, h: 723 kJ/kg, s: 4.58 kJ/kg\n",
      "-------------------------------------------------------------------\n",
      "Heat Input : 942 kJ/kg\n",
      "Net Work   : 505 kJ/kg\n",
      "Heat Output: 299 kJ/kg\n",
      "-------------------------------------------------------------------\n",
      "Cycle Efficiency: 0.537 \n"
     ]
    }
   ],
   "source": [
    "# table 16 from Toro and Lior (2017): Regenerative-reheated-intercooled Brayton on Earth\n",
    "Brayton9 = Brayton(T_low=298, T_high=1500, \n",
    "                   P_low=101.3e3, p_ratio=10, \n",
    "                   eta_comp=0.85, eta_turb=0.90, eta_regen=0.80,\n",
    "                   fluid='Air', reheat_intercool=True)\n",
    "Brayton9.compute()"
   ]
  },
  {
   "cell_type": "code",
   "execution_count": 14,
   "metadata": {},
   "outputs": [],
   "source": [
    "class Rankine:\n",
    "    \"Implements the non-ideal regenerative, reheated, Rankine Cycle.\"\n",
    "    \n",
    "    def __init__(self, p_max, T_max, p_min, fluid, \n",
    "                 eta_pump=1.00, eta_turb=1.00, eta_regen=0.80, \n",
    "                 regen_method = 'default', reheat=False):\n",
    "        \n",
    "        self.p_max = p_max\n",
    "        self.T_max = T_max\n",
    "        self.p_min = p_min\n",
    "        \n",
    "        self.fluid  = fluid\n",
    "        \n",
    "        self.eta_pump    = eta_pump\n",
    "        self.eta_turb    = eta_turb\n",
    "        self.eta_regen   = eta_regen\n",
    "        \n",
    "        self.regen_method = regen_method\n",
    "        self.reheat       = reheat\n",
    "        \"\"\"\n",
    "        Initializes the Rankine cycle object.\n",
    "\n",
    "        Parameters\n",
    "        ----------\n",
    "    \n",
    "        p_max : float\n",
    "            maximum boiler presssure, Pa\n",
    "        T_min : float\n",
    "            temperature in condenser, K\n",
    "        fluid : CoolProp fluid material\n",
    "            example: ct.Water()\n",
    "        eta_pump : float\n",
    "            pump isentropic efficiency\n",
    "        eta_turb : float\n",
    "            turbine isentropic efficiency\n",
    "        regen_method : str\n",
    "            only default option is available\n",
    "        reheat : bool\n",
    "            enable or disable reheat\n",
    "            \n",
    "        \"\"\"\n",
    "        \n",
    "    def compute(self, verbose=True):\n",
    "\n",
    "        if self.regen_method=='default' and self.reheat==False:\n",
    "\n",
    "            # conditions at state 1\n",
    "            self.T1 = cp.PropsSI('T','P',self.p_min,'Q',0, self.fluid)\n",
    "            self.P1 = self.p_min\n",
    "            self.H1 = cp.PropsSI('H','P',self.p_min,'Q',0, self.fluid)\n",
    "            self.S1 = cp.PropsSI('S','P',self.p_min,'Q',0, self.fluid)\n",
    "            self.Q1 = cp.PropsSI('Q', 'P',self.P1,'Q',0, self.fluid)\n",
    "            \n",
    "            # isentropic compression by pump 1\n",
    "            # self.fluid.SP = self.S1, self.p_int\n",
    "            \n",
    "            self.H2s      = cp.PropsSI('H','S',self.S1, 'P', self.p_max, self.fluid)\n",
    "\n",
    "            # isentropic pump work\n",
    "            self.pump_work_s = self.H2s - self.H1\n",
    "            \n",
    "            # actual pump work\n",
    "            self.pump_work   = self.pump_work_s / self.eta_pump\n",
    "\n",
    "            self.H2 = self.H1 + self.pump_work\n",
    "            #self.fluid.HP = self.H2, self.p_max\n",
    "\n",
    "            # conditions at state 2\n",
    "            self.T2 = cp.PropsSI('T','H', self.H2, 'P', self.p_max, self.fluid)\n",
    "            self.P2 = self.p_max\n",
    "            self.H2 = self.H2\n",
    "            self.S2 = cp.PropsSI('S','H', self.H2, 'P', self.p_max, self.fluid)\n",
    "            self.Q2 = cp.PropsSI('Q','P', self.P2, 'Q', 0.0, self.fluid)\n",
    "            \n",
    "            # set conditions at state 4\n",
    "            #self.fluid.TP = self.T_max, self.p_max\n",
    "            #self.H4 = self.fluid.h\n",
    "\n",
    "            # conditions at state 4\n",
    "            self.T4 = self.T_max\n",
    "            self.P4 = self.p_max\n",
    "            self.H4 = cp.PropsSI('H','P',self.p_max, 'T', self.T_max,  self.fluid)\n",
    "            self.S4 = cp.PropsSI('S','P',self.p_max, 'T', self.T_max,  self.fluid)\n",
    "            self.Q4 = 1.0\n",
    "            \n",
    "            # isentropic expansion through turbine \n",
    "            #self.fluid.SP = self.S4, self.p_min\n",
    "\n",
    "            # isentropic turbine work\n",
    "            self.H5s = cp.PropsSI('H','S',self.S4, 'P', self.p_min,  self.fluid)\n",
    "            self.turb_work_s = self.H4 - self.H5s\n",
    "            \n",
    "            # actual turbine  work\n",
    "            self.turb_work = self.turb_work_s*self.eta_turb\n",
    "\n",
    "            self.H5       = self.H4 - self.turb_work\n",
    "            #self.fluid.HP = self.H5,  self.p_min\n",
    "\n",
    "            # conditions at state 5\n",
    "            self.T5 = cp.PropsSI('T','H', self.H5, 'P', self.p_min, self.fluid)\n",
    "            self.P5 = self.p_min\n",
    "            self.H5 = self.H5\n",
    "            self.S5 = cp.PropsSI('S','H', self.H5, 'P', self.p_min, self.fluid)\n",
    "            self.Q5 = 1.0\n",
    "            \n",
    "            # ideal regeneration\n",
    "            self.q_regen_ideal = self.H5 - self.H2\n",
    "\n",
    "            # actual regeneration\n",
    "            self.q_regen_act   = self.eta_regen*self.q_regen_ideal\n",
    "\n",
    "            #conditions at state 6\n",
    "            #self.fluid.HP = self.H5 - self.q_regen_act , self.p_min\n",
    "            self.T6     = cp.PropsSI('T','H', self.H5 - self.q_regen_act, 'P', self.p_min, self.fluid)\n",
    "            self.P6     = self.p_min\n",
    "            self.H6     = self.H5 - self.q_regen_act\n",
    "            self.S6     = cp.PropsSI('S','H', self.H5 - self.q_regen_act, 'P', self.p_min, self.fluid)\n",
    "            self.Q6     = 1.0\n",
    "            \n",
    "            # conditions at state 3\n",
    "            #self.fluid.HP = self.H2 + self.q_regen_act , self.P2\n",
    "\n",
    "            self.T3     = cp.PropsSI('T','H', self.H2 + self.q_regen_act, 'P', self.P2, self.fluid)\n",
    "            self.P3     = self.P2\n",
    "            self.H3     = self.H2 + self.q_regen_act\n",
    "            self.S3     = cp.PropsSI('S','H', self.H2 + self.q_regen_act, 'P', self.p_min, self.fluid)\n",
    "            self.Q3     = 1.0\n",
    "            \n",
    "            # compute cycle efficiency\n",
    "        \n",
    "            self.work_net = self.turb_work - self.pump_work\n",
    "            self.heat_in  = self.H4 - self.H3\n",
    "            self.heat_out = self.H6 - self.H1\n",
    "\n",
    "            self.eff = self.work_net / (self.heat_in)\n",
    "\n",
    "            \n",
    "            if verbose==True:\n",
    "                print(\"State %1d, P:  %1.1f kPa, T: %1.2f K, h: %1d kJ/kg, s: %1.2f kJ/kg, Q: %1.2f\" %  (1, self.P1/1e3, self.T1, self.H1/1e3, self.S1/1e3, self.Q1))\n",
    "                print(\"State %1d, P: %1.1f kPa, T: %1.2f K, h: %1d kJ/kg, s: %1.2f kJ/kg, , Q: %1.2f\" % (2, self.P2/1e3, self.T2, self.H2/1e3, self.S2/1e3, self.Q2))\n",
    "                print(\"State %1d, P: %1.1f kPa, T: %1.2f K, h: %1d kJ/kg, s: %1.2f kJ/kg, , Q: %1.2f\" % (3, self.P3/1e3, self.T3, self.H3/1e3, self.S3/1e3, self.Q3))\n",
    "                print(\"State %1d, P: %1.1f kPa, T: %1.2f K, h: %1d kJ/kg, s: %1.2f kJ/kg, , Q: %1.2f\" % (4, self.P4/1e3, self.T4, self.H4/1e3, self.S4/1e3, self.Q4))\n",
    "                print(\"State %1d, P: %1.1f kPa, T: %1.2f K, h: %1d kJ/kg, s: %1.2f kJ/kg, , Q: %1.2f\" % (5, self.P5/1e3, self.T5, self.H5/1e3, self.S5/1e3, self.Q5))\n",
    "                print(\"State %1d, P: %1.1f kPa, T: %1.2f K, h: %1d kJ/kg, s: %1.2f kJ/kg, , Q: %1.2f\" % (6, self.P6/1e3, self.T6, self.H6/1e3, self.S6/1e3, self.Q6))\n",
    "                print(\"-------------------------------------------------------------------\")\n",
    "                print(\"Heat Input : %1d kJ/kg\" % (self.heat_in/1e3))\n",
    "                print(\"Net Work   : %1d kJ/kg\" % (self.work_net/1e3))\n",
    "                print(\"Heat Output: %1d kJ/kg\" % (self.heat_out/1e3))\n",
    "                print(\"-------------------------------------------------------------------\")\n",
    "                print(\"Cycle Efficiency: %2.3f \" % (self.eff))\n",
    "                \n",
    "        elif self.regen_method=='default' and self.reheat==True:\n",
    "            \n",
    "            # start with saturated liquid at p_min, q = 0\n",
    "            \n",
    "            # conditions at state 1\n",
    "            self.T1 = cp.PropsSI('T','P',self.p_min,'Q',0, self.fluid)\n",
    "            self.P1 = self.p_min\n",
    "            self.H1 = cp.PropsSI('H','P',self.p_min,'Q',0, self.fluid)\n",
    "            self.S1 = cp.PropsSI('S','P',self.p_min,'Q',0, self.fluid)\n",
    "            self.Q1 = cp.PropsSI('Q', 'P',self.P1,'Q',0, self.fluid)\n",
    "            \n",
    "            # isentropic compression by pump 1\n",
    "            # self.fluid.SP = self.S1, self.p_int\n",
    "            \n",
    "            self.H2s      = cp.PropsSI('H','S',self.S1, 'P', self.p_max, self.fluid)\n",
    "\n",
    "            # isentropic pump work\n",
    "            self.pump_work_s = self.H2s - self.H1\n",
    "            \n",
    "            # actual pump work\n",
    "            self.pump_work   = self.pump_work_s / self.eta_pump\n",
    "\n",
    "            self.H2 = self.H1 + self.pump_work\n",
    "            #self.fluid.HP = self.H2, self.p_max\n",
    "\n",
    "            # conditions at state 2\n",
    "            self.T2 = cp.PropsSI('T','H', self.H2, 'P', self.p_max, self.fluid)\n",
    "            self.P2 = self.p_max\n",
    "            self.H2 = self.H2\n",
    "            self.S2 = cp.PropsSI('S','H', self.H2, 'P', self.p_max, self.fluid)\n",
    "            self.Q2 = cp.PropsSI('Q','P', self.P2, 'Q', 0.0, self.fluid)\n",
    "            \n",
    "            # set conditions at state 4\n",
    "            #self.fluid.TP = self.T_max, self.p_max\n",
    "            #self.H4 = self.fluid.h\n",
    "\n",
    "            # conditions at state 4\n",
    "            self.T4 = self.T_max\n",
    "            self.P4 = self.p_max\n",
    "            self.H4 = cp.PropsSI('H','P',self.p_max, 'T', self.T_max,  self.fluid)\n",
    "            self.S4 = cp.PropsSI('S','P',self.p_max, 'T', self.T_max,  self.fluid)\n",
    "            self.Q4 = 1.0\n",
    "            \n",
    "            # isentropic expansion through turbine 1 (high-pressure turbine)\n",
    "            #self.fluid.SP = self.S4, self.p_max/(np.sqrt(self.p_max/self.p_min))\n",
    "\n",
    "            # isentropic turbine work\n",
    "            self.H5s = cp.PropsSI('H','S',self.S4, 'P', self.p_max/(np.sqrt(self.p_max/self.p_min)),  self.fluid)\n",
    "            self.turb1_work_s = self.H4 - self.H5s\n",
    "            \n",
    "             # actual turbine  work\n",
    "            self.turb1_work = self.turb1_work_s*self.eta_turb\n",
    "\n",
    "            self.H5       = self.H4 - self.turb1_work\n",
    "            \n",
    "            #self.fluid.HP = self.H5,  self.p_max/(np.sqrt(self.p_max/self.p_min))\n",
    "            # conditions at state 5\n",
    "            self.T5 = cp.PropsSI('T','H', self.H5, 'P', self.p_max/(np.sqrt(self.p_max/self.p_min)), self.fluid)\n",
    "            self.P5 = self.p_max/(np.sqrt(self.p_max/self.p_min))\n",
    "            self.H5 = self.H5\n",
    "            self.S5 = cp.PropsSI('S','H', self.H5, 'P', self.p_max/(np.sqrt(self.p_max/self.p_min)), self.fluid)\n",
    "            self.Q5 = 1.0\n",
    "            \n",
    "            \n",
    "            # state 6: reheat to T_max at pressure P5.\n",
    "            \n",
    "            #self.fluid.TP  =  self.T_max, self.P5\n",
    "            \n",
    "            self.T6     = self.T_max\n",
    "            self.P6     = self.P5\n",
    "            self.H6     = cp.PropsSI('H','T',self.T_max, 'P', self.P5,  self.fluid)\n",
    "            self.S6     = cp.PropsSI('S','T',self.T_max, 'P', self.P5,  self.fluid)\n",
    "            self.Q6     = 1.0\n",
    "            \n",
    "            # isentropic expansion through turbine 2 (low-pressure turbine)\n",
    "            #self.fluid.SP = self.S6, self.P6/(np.sqrt(self.p_max/self.p_min))\n",
    "\n",
    "            # isentropic turbine 2 work\n",
    "            self.H7s = cp.PropsSI('H','S',self.S6, 'P', self.P6/(np.sqrt(self.p_max/self.p_min)),  self.fluid)\n",
    "            self.turb2_work_s = self.H6 - self.H7s\n",
    "            \n",
    "            # actual turbine 2 work\n",
    "            self.turb2_work = self.turb2_work_s*self.eta_turb\n",
    "\n",
    "            self.H7       = self.H6 - self.turb2_work\n",
    "            #self.fluid.HP = self.H7,  self.P6/(np.sqrt(self.p_max/self.p_min))\n",
    "            \n",
    "            # conditions at state 7\n",
    "            self.T7 = cp.PropsSI('T','H', self.H7, 'P', self.P6/(np.sqrt(self.p_max/self.p_min)), self.fluid)\n",
    "            self.P7 = self.P6/(np.sqrt(self.p_max/self.p_min))\n",
    "            self.H7 = self.H7\n",
    "            self.S7 = cp.PropsSI('S','H', self.H7, 'P', self.P6/(np.sqrt(self.p_max/self.p_min)), self.fluid)\n",
    "            self.Q7 = 1.0\n",
    "            \n",
    "             # ideal regeneration\n",
    "            self.q_regen_ideal = self.H7 - self.H2\n",
    "\n",
    "            # actual regeneration\n",
    "            self.q_regen_act   = self.eta_regen*self.q_regen_ideal\n",
    "\n",
    "            #conditions at state 8\n",
    "            #self.fluid.HP = self.H7 - self.q_regen_act , self.p_min\n",
    "            self.T8     = cp.PropsSI('T','H', self.H7 - self.q_regen_act, 'P', self.p_min, self.fluid)\n",
    "            self.P8     = self.p_min\n",
    "            self.H8     = self.H7 - self.q_regen_act\n",
    "            self.S8     = cp.PropsSI('S','H', self.H7 - self.q_regen_act, 'P', self.p_min, self.fluid)\n",
    "            self.Q8     = 1.0\n",
    "            \n",
    "            # conditions at state 3\n",
    "            #self.fluid.HP = self.H2 + self.q_regen_act , self.P2\n",
    "\n",
    "            self.T3     = cp.PropsSI('T','H', self.H2 + self.q_regen_act, 'P', self.P2, self.fluid)\n",
    "            self.P3     = self.P2\n",
    "            self.H3     = self.H2 + self.q_regen_act\n",
    "            self.S3     = cp.PropsSI('S','H', self.H2 + self.q_regen_act, 'P', self.P2, self.fluid)\n",
    "            self.Q3     = 1.0\n",
    "            \n",
    "            # compute cycle efficiency\n",
    "        \n",
    "            self.work_net = self.turb1_work + self.turb2_work - self.pump_work\n",
    "            self.heat_in  = self.H4 - self.H3 + self.H6 - self.H5\n",
    "            self.heat_out = self.H8 - self.H1\n",
    "\n",
    "            self.eff = self.work_net / (self.heat_in)\n",
    "            \n",
    "            \n",
    "            if verbose==True:\n",
    "        \n",
    "                print(\"State %1d, P:  %1.1f kPa, T: %1.2f K, h: %1d kJ/kg, s: %1.2f kJ/kg, Q: %1.2f\" %  (1, self.P1/1e3, self.T1, self.H1/1e3, self.S1/1e3, self.Q1))\n",
    "                print(\"State %1d, P: %1.1f kPa, T: %1.2f K, h: %1d kJ/kg, s: %1.2f kJ/kg, , Q: %1.2f\" % (2, self.P2/1e3, self.T2, self.H2/1e3, self.S2/1e3, self.Q2))\n",
    "                print(\"State %1d, P: %1.1f kPa, T: %1.2f K, h: %1d kJ/kg, s: %1.2f kJ/kg, , Q: %1.2f\" % (3, self.P3/1e3, self.T3, self.H3/1e3, self.S3/1e3, self.Q3))\n",
    "                print(\"State %1d, P: %1.1f kPa, T: %1.2f K, h: %1d kJ/kg, s: %1.2f kJ/kg, , Q: %1.2f\" % (4, self.P4/1e3, self.T4, self.H4/1e3, self.S4/1e3, self.Q4))\n",
    "                print(\"State %1d, P: %1.1f kPa, T: %1.2f K, h: %1d kJ/kg, s: %1.2f kJ/kg, , Q: %1.2f\" % (5, self.P5/1e3, self.T5, self.H5/1e3, self.S5/1e3, self.Q5))\n",
    "                print(\"State %1d, P: %1.1f kPa, T: %1.2f K, h: %1d kJ/kg, s: %1.2f kJ/kg, , Q: %1.2f\" % (6, self.P6/1e3, self.T6, self.H6/1e3, self.S6/1e3, self.Q6))\n",
    "                print(\"State %1d, P: %1.1f kPa, T: %1.2f K, h: %1d kJ/kg, s: %1.2f kJ/kg, , Q: %1.2f\" % (7, self.P7/1e3, self.T7, self.H7/1e3, self.S7/1e3, self.Q7))\n",
    "                print(\"State %1d, P: %1.1f kPa, T: %1.2f K, h: %1d kJ/kg, s: %1.2f kJ/kg, , Q: %1.2f\" % (8, self.P8/1e3, self.T8, self.H8/1e3, self.S8/1e3, self.Q8))\n",
    "                \n",
    "                print(\"-------------------------------------------------------------------\")\n",
    "                print(\"Heat Input : %1d kJ/kg\" % (self.heat_in/1e3))\n",
    "                print(\"Net Work   : %1d kJ/kg\" % (self.work_net/1e3))\n",
    "                print(\"Heat Output: %1d kJ/kg\" % (self.heat_out/1e3))\n",
    "                print(\"-------------------------------------------------------------------\")\n",
    "                print(\"Cycle Efficiency: %2.3f \" % (self.eff))"
   ]
  },
  {
   "cell_type": "code",
   "execution_count": 15,
   "metadata": {},
   "outputs": [
    {
     "name": "stdout",
     "output_type": "stream",
     "text": [
      "State 1, P:  15.0 kPa, T: 64.15 K, h: -148 kJ/kg, s: 2.46 kJ/kg, Q: 0.00\n",
      "State 2, P: 15000.0 kPa, T: 66.68 K, h: -131 kJ/kg, s: 2.46 kJ/kg, , Q: 0.00\n",
      "State 3, P: 15000.0 kPa, T: 66.68 K, h: -131 kJ/kg, s: 2.73 kJ/kg, , Q: 1.00\n",
      "State 4, P: 15000.0 kPa, T: 1500.00 K, h: 1695 kJ/kg, s: 7.15 kJ/kg, , Q: 1.00\n",
      "State 5, P: 15.0 kPa, T: 232.92 K, h: 241 kJ/kg, s: 7.15 kJ/kg, , Q: 1.00\n",
      "State 6, P: 15.0 kPa, T: 232.92 K, h: 241 kJ/kg, s: 7.15 kJ/kg, , Q: 1.00\n",
      "-------------------------------------------------------------------\n",
      "Heat Input : 1827 kJ/kg\n",
      "Net Work   : 1436 kJ/kg\n",
      "Heat Output: 390 kJ/kg\n",
      "-------------------------------------------------------------------\n",
      "Cycle Efficiency: 0.786 \n"
     ]
    }
   ],
   "source": [
    "# This example computes the results from Table 5 of Toro and Lior (2017) for N2 working fluid.\n",
    "# Validation Case: ideal, no regeneration, no reheat.\n",
    "Rankine2 = Rankine(150e5, 1500, 0.15e5, 'Nitrogen', eta_pump=1.00, eta_turb=1.00, eta_regen=0.00)\n",
    "Rankine2.compute()"
   ]
  },
  {
   "cell_type": "code",
   "execution_count": 16,
   "metadata": {},
   "outputs": [
    {
     "name": "stdout",
     "output_type": "stream",
     "text": [
      "State 1, P:  15.0 kPa, T: 64.15 K, h: -148 kJ/kg, s: 2.46 kJ/kg, Q: 0.00\n",
      "State 2, P: 15000.0 kPa, T: 67.67 K, h: -129 kJ/kg, s: 2.49 kJ/kg, , Q: 0.00\n",
      "State 3, P: 15000.0 kPa, T: 67.67 K, h: -129 kJ/kg, s: 2.76 kJ/kg, , Q: 1.00\n",
      "State 4, P: 15000.0 kPa, T: 1500.00 K, h: 1695 kJ/kg, s: 7.15 kJ/kg, , Q: 1.00\n",
      "State 5, P: 15.0 kPa, T: 372.67 K, h: 387 kJ/kg, s: 7.64 kJ/kg, , Q: 1.00\n",
      "State 6, P: 15.0 kPa, T: 372.67 K, h: 387 kJ/kg, s: 7.64 kJ/kg, , Q: 1.00\n",
      "-------------------------------------------------------------------\n",
      "Heat Input : 1825 kJ/kg\n",
      "Net Work   : 1289 kJ/kg\n",
      "Heat Output: 535 kJ/kg\n",
      "-------------------------------------------------------------------\n",
      "Cycle Efficiency: 0.706 \n"
     ]
    }
   ],
   "source": [
    "# This example computes the results from Table 5 of Toro and Lior (2017) for N2 working fluid.\n",
    "# Validation Case: non-ideal, no regeneration, no reheat\n",
    "Rankine3 = Rankine(150e5, 1500, 0.15e5, 'Nitrogen', eta_pump=0.90, eta_turb=0.90, eta_regen=0.00)\n",
    "Rankine3.compute()"
   ]
  },
  {
   "cell_type": "code",
   "execution_count": 17,
   "metadata": {},
   "outputs": [
    {
     "name": "stdout",
     "output_type": "stream",
     "text": [
      "State 1, P:  15.0 kPa, T: 64.15 K, h: -148 kJ/kg, s: 2.46 kJ/kg, Q: 0.00\n",
      "State 2, P: 15000.0 kPa, T: 67.67 K, h: -129 kJ/kg, s: 2.49 kJ/kg, , Q: 0.00\n",
      "State 3, P: 15000.0 kPa, T: 217.45 K, h: 170 kJ/kg, s: 6.78 kJ/kg, , Q: 1.00\n",
      "State 4, P: 15000.0 kPa, T: 1500.00 K, h: 1695 kJ/kg, s: 7.15 kJ/kg, , Q: 1.00\n",
      "State 5, P: 15.0 kPa, T: 372.67 K, h: 387 kJ/kg, s: 7.64 kJ/kg, , Q: 1.00\n",
      "State 6, P: 15.0 kPa, T: 84.72 K, h: 87 kJ/kg, s: 6.09 kJ/kg, , Q: 1.00\n",
      "-------------------------------------------------------------------\n",
      "Heat Input : 1525 kJ/kg\n",
      "Net Work   : 1289 kJ/kg\n",
      "Heat Output: 236 kJ/kg\n",
      "-------------------------------------------------------------------\n",
      "Cycle Efficiency: 0.845 \n"
     ]
    }
   ],
   "source": [
    "# This example computes the results from Table 5 of Toro and Lior (2017) for N2 working fluid.\n",
    "# Validation Case: non-ideal scenario, with regeneration, no reheat\n",
    "Rankine4 = Rankine(150e5, 1500, 0.15e5, 'Nitrogen', eta_pump=0.90, eta_turb=0.90, eta_regen=0.58)\n",
    "Rankine4.compute()"
   ]
  },
  {
   "cell_type": "code",
   "execution_count": 18,
   "metadata": {},
   "outputs": [
    {
     "name": "stdout",
     "output_type": "stream",
     "text": [
      "State 1, P:  15.0 kPa, T: 64.15 K, h: -148 kJ/kg, s: 2.46 kJ/kg, Q: 0.00\n",
      "State 2, P: 15000.0 kPa, T: 67.67 K, h: -129 kJ/kg, s: 2.49 kJ/kg, , Q: 0.00\n",
      "State 3, P: 15000.0 kPa, T: 520.86 K, h: 540 kJ/kg, s: 5.91 kJ/kg, , Q: 1.00\n",
      "State 4, P: 15000.0 kPa, T: 1500.00 K, h: 1695 kJ/kg, s: 7.15 kJ/kg, , Q: 1.00\n",
      "State 5, P: 474.3 kPa, T: 715.60 K, h: 752 kJ/kg, s: 7.30 kJ/kg, , Q: 1.00\n",
      "State 6, P: 474.3 kPa, T: 1500.00 K, h: 1680 kJ/kg, s: 8.17 kJ/kg, , Q: 1.00\n",
      "State 7, P: 15.0 kPa, T: 714.67 K, h: 751 kJ/kg, s: 8.33 kJ/kg, , Q: 1.00\n",
      "State 8, P: 15.0 kPa, T: 79.51 K, h: 81 kJ/kg, s: 6.03 kJ/kg, , Q: 1.00\n",
      "-------------------------------------------------------------------\n",
      "Heat Input : 2083 kJ/kg\n",
      "Net Work   : 1852 kJ/kg\n",
      "Heat Output: 230 kJ/kg\n",
      "-------------------------------------------------------------------\n",
      "Cycle Efficiency: 0.889 \n"
     ]
    }
   ],
   "source": [
    "# This example computes the results from Table 7 of Toro and Lior (2017) for N2 working fluid.\n",
    "# Validation Case: non-ideal scenario, with regeneration and reheat\n",
    "Rankine5 = Rankine(150e5, 1500, 0.15e5, 'Nitrogen', eta_pump=0.90, eta_turb=0.90, eta_regen=0.76,\n",
    "                reheat=True)\n",
    "Rankine5.compute()"
   ]
  },
  {
   "cell_type": "code",
   "execution_count": 19,
   "metadata": {},
   "outputs": [
    {
     "name": "stdout",
     "output_type": "stream",
     "text": [
      "State 1, P:  75.0 kPa, T: 84.55 K, h: -120 kJ/kg, s: 1.34 kJ/kg, Q: 0.00\n",
      "State 2, P: 15000.0 kPa, T: 88.97 K, h: -108 kJ/kg, s: 1.35 kJ/kg, , Q: 0.00\n",
      "State 3, P: 15000.0 kPa, T: 177.12 K, h: 0 kJ/kg, s: 2.76 kJ/kg, , Q: 1.00\n",
      "State 4, P: 15000.0 kPa, T: 1500.00 K, h: 787 kJ/kg, s: 3.67 kJ/kg, , Q: 1.00\n",
      "State 5, P: 75.0 kPa, T: 313.16 K, h: 162 kJ/kg, s: 3.96 kJ/kg, , Q: 1.00\n",
      "State 6, P: 75.0 kPa, T: 105.72 K, h: 54 kJ/kg, s: 3.39 kJ/kg, , Q: 1.00\n",
      "-------------------------------------------------------------------\n",
      "Heat Input : 787 kJ/kg\n",
      "Net Work   : 613 kJ/kg\n",
      "Heat Output: 174 kJ/kg\n",
      "-------------------------------------------------------------------\n",
      "Cycle Efficiency: 0.778 \n"
     ]
    }
   ],
   "source": [
    "# This example computes the results from Table 5 of Toro and Lior (2017) for Ar working fluid.\n",
    "# Validation Case: non-ideal scenario, with regeneration, no reheat\n",
    "Rankine6 = Rankine(150e5, 1500, 0.75e5, 'Argon', eta_pump=0.90, eta_turb=0.90, eta_regen=0.40)\n",
    "Rankine6.compute()"
   ]
  },
  {
   "cell_type": "code",
   "execution_count": 20,
   "metadata": {},
   "outputs": [
    {
     "name": "stdout",
     "output_type": "stream",
     "text": [
      "State 1, P:  75.0 kPa, T: 84.55 K, h: -120 kJ/kg, s: 1.34 kJ/kg, Q: 0.00\n",
      "State 2, P: 15000.0 kPa, T: 88.97 K, h: -108 kJ/kg, s: 1.35 kJ/kg, , Q: 0.00\n",
      "State 3, P: 15000.0 kPa, T: 341.31 K, h: 157 kJ/kg, s: 2.85 kJ/kg, , Q: 1.00\n",
      "State 4, P: 15000.0 kPa, T: 1500.00 K, h: 787 kJ/kg, s: 3.67 kJ/kg, , Q: 1.00\n",
      "State 5, P: 1060.7 kPa, T: 618.96 K, h: 321 kJ/kg, s: 3.76 kJ/kg, , Q: 1.00\n",
      "State 6, P: 1060.7 kPa, T: 1500.00 K, h: 780 kJ/kg, s: 4.23 kJ/kg, , Q: 1.00\n",
      "State 7, P: 75.0 kPa, T: 617.94 K, h: 321 kJ/kg, s: 4.32 kJ/kg, , Q: 1.00\n",
      "State 8, P: 75.0 kPa, T: 106.69 K, h: 54 kJ/kg, s: 3.40 kJ/kg, , Q: 1.00\n",
      "-------------------------------------------------------------------\n",
      "Heat Input : 1088 kJ/kg\n",
      "Net Work   : 913 kJ/kg\n",
      "Heat Output: 175 kJ/kg\n",
      "-------------------------------------------------------------------\n",
      "Cycle Efficiency: 0.839 \n"
     ]
    }
   ],
   "source": [
    "# This example computes the results from Table 7 of Toro and Lior (2017) for Ar working fluid.\n",
    "# Validation Case: non-ideal scenario, with regeneration and reheat\n",
    "Rankine7 = Rankine(150e5, 1500, 0.75e5, 'Argon', eta_pump=0.90, eta_turb=0.90, eta_regen=0.62,\n",
    "                reheat=True)\n",
    "Rankine7.compute()"
   ]
  },
  {
   "cell_type": "code",
   "execution_count": 21,
   "metadata": {},
   "outputs": [],
   "source": [
    "class Stirling:\n",
    "    \n",
    "    \"Implements the pseudo Stirling Cycle.\"\n",
    "    \n",
    "    def __init__(self, p_low, T_low, T_high, comp_ratio, fluid, eta_regen=0.85):\n",
    "        \n",
    "        \"\"\"\n",
    "        Initializes the Stirling cycle object.\n",
    "\n",
    "        Parameters\n",
    "        ----------\n",
    "        p_low : float\n",
    "            low pressure, Pa\n",
    "        T_high : float\n",
    "            high temperature, K\n",
    "        T_low : float\n",
    "            low temperature, K\n",
    "        comp_ratio : float\n",
    "            compression ratio\n",
    "        fluid : str\n",
    "            CoolProp fluid material\n",
    "        eta_regen : float\n",
    "            regenerator efficiency\n",
    "        \"\"\"\n",
    "        \n",
    "        self.p_low      = p_low\n",
    "        self.T_high     = T_high\n",
    "        self.T_low      = T_low\n",
    "        self.comp_ratio = comp_ratio\n",
    "        self.fluid      = fluid\n",
    "        self.eta_regen  = eta_regen\n",
    "        \n",
    "        # create a cantera object for the working fluid \n",
    "        self.CP    = cp.PropsSI('CP0MASS','T',self.T_low,'P',self.p_low, self.fluid) \n",
    "        self.CV    = cp.PropsSI('CVMASS', 'T',self.T_low,'P',self.p_low, self.fluid)\n",
    "        \n",
    "        self.gamma = self.CP / self.CV\n",
    "        \n",
    "        \n",
    "    def compute(self, verbose=True):\n",
    "        \"\"\"\n",
    "        Computes pseudo-Stirling efficiency.\n",
    "        \"\"\"\n",
    "        \n",
    "    \n",
    "        self.zeta     = self.T_low / self.T_high\n",
    "        self.xi       = self.comp_ratio\n",
    "        self.gamma    = self.gamma\n",
    "        self.eps_r    = self.eta_regen\n",
    "        \n",
    "        #self.num       =  (1 - self.xi**(1 - self.gamma)) - self.zeta*(self.xi**(1 - self.gamma) - 1)\n",
    "        #self.den       =  (1 - self.xi**(1 - self.gamma)) + (1 - self.zeta)*(1 - self.eps_r)\n",
    "        \n",
    "        #self.num      = self.T_high*(1 - 1/(self.r**(self.gamma-1))) - self.r**(self.gamma-1) + 1\n",
    "        #self.den      = (self.T_high - 1)*(1 - self.eps_r) + self.T_high*(1 - 1/(self.r**(self.gamma-1)))\n",
    "        \n",
    "        self.r = self.comp_ratio\n",
    "        self.tau = self.T_high / self.T_low\n",
    "        \n",
    "        self.num      =  self.tau*(1 - (1/self.r**(self.gamma-1))) - self.r**(self.gamma-1) + 1\n",
    "        self.den      =  (self.tau - 1)*(1 - self.eps_r) + self.tau*(1 - (1/self.r**(self.gamma-1)))\n",
    "        \n",
    "        self.eff  = self.num / self.den\n",
    "        \n",
    "        if verbose==True:\n",
    "            print(\"-------------------------------------------------------------------\")\n",
    "            print(\"Pseudo-Stirling Efficiency: %2.3f \" % (self.eff))\n",
    "            print(\"-------------------------------------------------------------------\")"
   ]
  },
  {
   "cell_type": "code",
   "execution_count": 22,
   "metadata": {},
   "outputs": [],
   "source": [
    "import matplotlib.pyplot as plt"
   ]
  },
  {
   "cell_type": "code",
   "execution_count": 23,
   "metadata": {},
   "outputs": [
    {
     "data": {
      "image/png": "[encoded data removed]",
      "text/plain": [
       "<Figure size 576x432 with 1 Axes>"
      ]
     },
     "metadata": {
      "needs_background": "light"
     },
     "output_type": "display_data"
    }
   ],
   "source": [
    "# This example recreates Fig. 17 from Toro and Lior (2017) for N2 and H2 working fluid.\n",
    "# Validation Case.\n",
    "\n",
    "r_arr = np.linspace(1.1, 5, 21)\n",
    "\n",
    "n_arr1 = np.array([])\n",
    "n_arr2 = np.array([])\n",
    "n_arr3 = np.array([])\n",
    "\n",
    "Stirling1 = Stirling(1e5, 200.0, 1500, r_arr[0], fluid='Helium')\n",
    "Stirling2 = Stirling(1e5, 200.0, 1500, r_arr[0], fluid='Hydrogen')\n",
    "Stirling3 = Stirling(1e5, 200.0, 1500, r_arr[0], fluid='Nitrogen')\n",
    "\n",
    "for r in r_arr:\n",
    "    Stirling1.comp_ratio = r\n",
    "    Stirling1.compute(verbose=False)\n",
    "    \n",
    "    Stirling2.comp_ratio = r\n",
    "    Stirling2.compute(verbose=False)\n",
    "    \n",
    "    Stirling3.comp_ratio = r\n",
    "    Stirling3.compute(verbose=False)\n",
    "    \n",
    "    n_arr1 = np.append(n_arr1, Stirling1.eff)\n",
    "    n_arr2 = np.append(n_arr2, Stirling2.eff)\n",
    "    n_arr3 = np.append(n_arr3, Stirling3.eff)\n",
    "\n",
    "fig = plt.figure(figsize=(8,6))\n",
    "plt.rc('font',family='Times New Roman')\n",
    "params = {'mathtext.default': 'regular' }\n",
    "plt.rcParams.update(params)\n",
    "\n",
    "plt.plot(r_arr, n_arr1, 'rD-', label = r'$He$')\n",
    "plt.plot(r_arr, n_arr2, 'gs-', label = r'$H_2$')\n",
    "plt.plot(r_arr, n_arr3, 'b^-', label = r'$N_2$')\n",
    "plt.ylim([0.3,0.60])\n",
    "\n",
    "plt.xlabel('Compression ratio',fontsize=16)\n",
    "plt.ylabel('Stirling efficiency', fontsize=16)\n",
    "\n",
    "ax=plt.gca()\n",
    "ax.tick_params(direction='in')\n",
    "ax.yaxis.set_ticks_position('both')\n",
    "ax.xaxis.set_ticks_position('both')\n",
    "ax.tick_params(axis='x',labelsize=16)\n",
    "ax.tick_params(axis='y',labelsize=16)\n",
    "\n",
    "plt.legend(loc='lower right', frameon=False, fontsize=16)\n",
    "\n",
    "plt.savefig('toro-lior-fig-17.png', dpi=300,bbox_inches='tight')\n",
    "plt.savefig('toro-lior-fig-17.pdf', dpi=300,bbox_inches='tight')\n",
    "plt.savefig('toro-lior-fig-17.eps', dpi=300,bbox_inches='tight')"
   ]
  },
  {
   "cell_type": "code",
   "execution_count": 24,
   "metadata": {},
   "outputs": [
    {
     "name": "stdout",
     "output_type": "stream",
     "text": [
      "-------------------------------------------------------------------\n",
      "Pseudo-Stirling Efficiency: 0.510 \n",
      "-------------------------------------------------------------------\n"
     ]
    }
   ],
   "source": [
    "# Validation: results from Table 17, (Toro and Lior, 2017)\n",
    "Striling1 = Stirling(1e5, 200.0, 1500, 2.15, fluid='Hydrogen')\n",
    "Stirling1.compute()"
   ]
  },
  {
   "cell_type": "code",
   "execution_count": 25,
   "metadata": {},
   "outputs": [
    {
     "name": "stdout",
     "output_type": "stream",
     "text": [
      "-------------------------------------------------------------------\n",
      "Pseudo-Stirling Efficiency: 0.581 \n",
      "-------------------------------------------------------------------\n"
     ]
    }
   ],
   "source": [
    "# # Validation: results from Table 17, (Toro and Lior, 2017)\n",
    "Striling2 = Stirling(1e5, 200.0, 1500, 2.3, fluid='Nitrogen')\n",
    "Stirling2.compute()"
   ]
  },
  {
   "cell_type": "code",
   "execution_count": 26,
   "metadata": {},
   "outputs": [
    {
     "name": "stdout",
     "output_type": "stream",
     "text": [
      "-------------------------------------------------------------------\n",
      "Pseudo-Stirling Efficiency: 0.586 \n",
      "-------------------------------------------------------------------\n"
     ]
    }
   ],
   "source": [
    "# Validation: results from Table 17, (Toro and Lior, 2017)\n",
    "Striling3 = Stirling(1e5, 200.0, 1500, 1.55, fluid='Helium')\n",
    "Stirling3.compute()"
   ]
  },
  {
   "cell_type": "code",
   "execution_count": 27,
   "metadata": {},
   "outputs": [
    {
     "name": "stdout",
     "output_type": "stream",
     "text": [
      "-------------------------------------------------------------------\n",
      "Pseudo-Stirling Efficiency: 0.427 \n",
      "-------------------------------------------------------------------\n"
     ]
    }
   ],
   "source": [
    "# Validation: results for RE-1000, NASA/Sunpower (Ref: Zara and Saleh)\n",
    "Stirling4 = Stirling(1e5, 303.0, 873.0, 1.5, fluid='Helium',eta_regen=0.90)\n",
    "Stirling4.compute()"
   ]
  },
  {
   "cell_type": "code",
   "execution_count": 28,
   "metadata": {},
   "outputs": [
    {
     "name": "stdout",
     "output_type": "stream",
     "text": [
      "-------------------------------------------------------------------\n",
      "Pseudo-Stirling Efficiency: 0.285 \n",
      "-------------------------------------------------------------------\n"
     ]
    }
   ],
   "source": [
    "# Validation: results for SPDE (NASA) (Ref: Zara and Saleh)\n",
    "Stirling5 = Stirling(1e5, 325.0, 650.0, 1.5, fluid='Helium',eta_regen=0.90)\n",
    "Stirling5.compute()"
   ]
  },
  {
   "cell_type": "code",
   "execution_count": 29,
   "metadata": {},
   "outputs": [
    {
     "name": "stdout",
     "output_type": "stream",
     "text": [
      "-------------------------------------------------------------------\n",
      "Pseudo-Stirling Efficiency: 0.303 \n",
      "-------------------------------------------------------------------\n"
     ]
    }
   ],
   "source": [
    "# Validation: results for EF-1000 (Sunpower) (Ref: Zara and Saleh)\n",
    "Stirling6 = Stirling(1e5, 323.0, 773.0, 1.5, fluid='Helium',eta_regen=0.80)\n",
    "Stirling6.compute()"
   ]
  },
  {
   "cell_type": "code",
   "execution_count": 30,
   "metadata": {},
   "outputs": [
    {
     "name": "stdout",
     "output_type": "stream",
     "text": [
      "-------------------------------------------------------------------\n",
      "Pseudo-Stirling Efficiency: 0.263 \n",
      "-------------------------------------------------------------------\n"
     ]
    }
   ],
   "source": [
    "# Validation: results for EE-35 (Sunpower) (Ref: Zara and Saleh)\n",
    "Stirling6 = Stirling(1e5, 353.0, 650.0, 1.5, fluid='Helium', eta_regen=0.95)\n",
    "Stirling6.compute()"
   ]
  },
  {
   "cell_type": "code",
   "execution_count": 31,
   "metadata": {},
   "outputs": [
    {
     "name": "stdout",
     "output_type": "stream",
     "text": [
      "-------------------------------------------------------------------\n",
      "Pseudo-Stirling Efficiency: 0.333 \n",
      "-------------------------------------------------------------------\n"
     ]
    }
   ],
   "source": [
    "# Validation: results for Dai, 2021: Table 3b\n",
    "Stirling7 = Stirling(1e5, 500.0, 1000.0, 1.4, fluid='Helium', eta_regen=0.95)\n",
    "Stirling7.compute()"
   ]
  },
  {
   "cell_type": "code",
   "execution_count": 32,
   "metadata": {},
   "outputs": [
    {
     "name": "stdout",
     "output_type": "stream",
     "text": [
      "-------------------------------------------------------------------\n",
      "Pseudo-Stirling Efficiency: 0.868 \n",
      "-------------------------------------------------------------------\n"
     ]
    }
   ],
   "source": [
    "Stirling8 = Stirling(1e5, 13.0, 1300.0, 2.0, fluid='Helium', eta_regen=0.95)\n",
    "Stirling8.compute()"
   ]
  },
  {
   "cell_type": "code",
   "execution_count": 33,
   "metadata": {},
   "outputs": [],
   "source": [
    "# Generate results for summary plot\n",
    "\n",
    "# Brayton cycle for air Brayton, no reheat, no regeneration\n",
    "\n",
    "T1_arr = np.linspace(100, 400, 5) # temp. arr \n",
    "B1_arr = np.array([])\n",
    "\n",
    "for T in T1_arr:\n",
    "    B1   = Brayton(T_low=T, T_high=1300, P_low=101.3e3, p_ratio=10, \n",
    "                   eta_comp=0.9, eta_turb=0.90, eta_regen=0.00, \n",
    "                   fluid='Air')\n",
    "    B1.compute(verbose=False)\n",
    "    B1_arr = np.append(B1_arr, B1.eff)"
   ]
  },
  {
   "cell_type": "code",
   "execution_count": 34,
   "metadata": {},
   "outputs": [],
   "source": [
    "# Brayton cycle for air Brayton, no reheat, with regeneration\n",
    "\n",
    "T2_arr = np.linspace(100, 400, 5) # temp. arr \n",
    "B2_arr = np.array([])\n",
    "\n",
    "for T in T2_arr:\n",
    "    B2   = Brayton(T_low=T, T_high=1300, P_low=101.3e3, p_ratio=10, \n",
    "                   eta_comp=0.9, eta_turb=0.90, eta_regen=0.60, \n",
    "                   fluid='Air')\n",
    "    B2.compute(verbose=False)\n",
    "    B2_arr = np.append(B2_arr, B2.eff)"
   ]
  },
  {
   "cell_type": "code",
   "execution_count": 35,
   "metadata": {},
   "outputs": [],
   "source": [
    "# Brayton cycle for air Brayton, with reheat, with regeneration\n",
    "\n",
    "T3_arr = np.linspace(100, 400, 5) # temp. arr \n",
    "B3_arr = np.array([])\n",
    "\n",
    "for T in T3_arr:\n",
    "    B3   = Brayton(T_low=T, T_high=1300, P_low=101.3e3, p_ratio=10, \n",
    "                   eta_comp=0.9, eta_turb=0.90, eta_regen=0.80, \n",
    "                   fluid='Air', reheat_intercool=True)\n",
    "    B3.compute(verbose=False)\n",
    "    B3_arr = np.append(B3_arr, B3.eff)"
   ]
  },
  {
   "cell_type": "code",
   "execution_count": 36,
   "metadata": {},
   "outputs": [],
   "source": [
    "# Brayton cycle for He Brayton, no reheat, no regeneration\n",
    "\n",
    "T4_arr = np.linspace(15, 200, 5) # temp. arr \n",
    "B4_arr = np.array([])\n",
    "\n",
    "for T in T4_arr:\n",
    "    B4   = Brayton(T_low=T, T_high=1300, P_low=101.3e3, p_ratio=10, \n",
    "                   eta_comp=0.9, eta_turb=0.90, eta_regen=0.00, \n",
    "                   fluid='Helium')\n",
    "    B4.compute(verbose=False)\n",
    "    B4_arr = np.append(B4_arr, B4.eff)"
   ]
  },
  {
   "cell_type": "code",
   "execution_count": 37,
   "metadata": {},
   "outputs": [],
   "source": [
    "# Brayton cycle for He Brayton, no reheat, with regeneration\n",
    "\n",
    "T5_arr = np.linspace(15, 200, 5) # temp. arr \n",
    "B5_arr = np.array([])\n",
    "\n",
    "for T in T5_arr:\n",
    "    B5   = Brayton(T_low=T, T_high=1300, P_low=101.3e3, p_ratio=10, \n",
    "                   eta_comp=0.9, eta_turb=0.90, eta_regen=0.60, \n",
    "                   fluid='Helium')\n",
    "    B5.compute(verbose=False)\n",
    "    B5_arr = np.append(B5_arr, B5.eff)"
   ]
  },
  {
   "cell_type": "code",
   "execution_count": 38,
   "metadata": {},
   "outputs": [],
   "source": [
    "# Brayton cycle for He Brayton, with reheat, with regeneration\n",
    "\n",
    "T6_arr = np.linspace(15, 200, 5) # temp. arr \n",
    "B6_arr = np.array([])\n",
    "\n",
    "for T in T6_arr:\n",
    "    B6   = Brayton(T_low=T, T_high=1300, P_low=101.3e3, p_ratio=8, \n",
    "                   eta_comp=0.9, eta_turb=0.90, eta_regen=0.80, \n",
    "                   fluid='Helium', reheat_intercool=True)\n",
    "    B6.compute(verbose=False)\n",
    "    B6_arr = np.append(B6_arr, B6.eff)"
   ]
  },
  {
   "cell_type": "code",
   "execution_count": 39,
   "metadata": {},
   "outputs": [],
   "source": [
    "# Brayton cycle for H2 Brayton, no reheat, no regeneration\n",
    "\n",
    "T4A_arr = np.linspace(25, 200, 5) # temp. arr \n",
    "B4A_arr = np.array([])\n",
    "\n",
    "for T in T4A_arr:\n",
    "    B4A   = Brayton(T_low=T, T_high=1300, P_low=101.3e3, p_ratio=10, \n",
    "                   eta_comp=0.9, eta_turb=0.90, eta_regen=0.00, \n",
    "                   fluid='Hydrogen')\n",
    "    B4A.compute(verbose=False)\n",
    "    B4A_arr = np.append(B4A_arr, B4A.eff)"
   ]
  },
  {
   "cell_type": "code",
   "execution_count": 40,
   "metadata": {},
   "outputs": [],
   "source": [
    "# Brayton cycle for H2 Brayton, no reheat, with regeneration\n",
    "\n",
    "T5A_arr = np.linspace(25, 200, 5) # temp. arr \n",
    "B5A_arr = np.array([])\n",
    "\n",
    "for T in T4A_arr:\n",
    "    B5A   = Brayton(T_low=T, T_high=1300, P_low=101.3e3, p_ratio=10, \n",
    "                   eta_comp=0.9, eta_turb=0.90, eta_regen=0.60, \n",
    "                   fluid='Hydrogen')\n",
    "    B5A.compute(verbose=False)\n",
    "    B5A_arr = np.append(B5A_arr, B5A.eff)"
   ]
  },
  {
   "cell_type": "code",
   "execution_count": 41,
   "metadata": {},
   "outputs": [],
   "source": [
    "# Brayton cycle for He Brayton, with reheat, with regeneration\n",
    "\n",
    "T6A_arr = np.linspace(25, 200, 5) # temp. arr \n",
    "B6A_arr = np.array([])\n",
    "\n",
    "for T in T6_arr:\n",
    "    B6A   = Brayton(T_low=T, T_high=1300, P_low=101.3e3, p_ratio=8, \n",
    "                   eta_comp=0.9, eta_turb=0.90, eta_regen=0.80, \n",
    "                   fluid='Hydrogen', reheat_intercool=True)\n",
    "    B6A.compute(verbose=False)\n",
    "    B6A_arr = np.append(B6A_arr, B6A.eff)"
   ]
  },
  {
   "cell_type": "code",
   "execution_count": 42,
   "metadata": {},
   "outputs": [
    {
     "name": "stdout",
     "output_type": "stream",
     "text": [
      "State 1, P:  10.0 kPa, T: 318.96 K, h: 191 kJ/kg, s: 0.65 kJ/kg, Q: 0.00\n",
      "State 2, P: 15000.0 kPa, T: 319.86 K, h: 208 kJ/kg, s: 0.65 kJ/kg, , Q: 0.00\n",
      "State 3, P: 15000.0 kPa, T: 319.86 K, h: 208 kJ/kg, s: 0.70 kJ/kg, , Q: 1.00\n",
      "State 4, P: 15000.0 kPa, T: 1300.00 K, h: 4668 kJ/kg, s: 7.69 kJ/kg, , Q: 1.00\n",
      "State 5, P: 10.0 kPa, T: 359.30 K, h: 2661 kJ/kg, s: 8.38 kJ/kg, , Q: 1.00\n",
      "State 6, P: 10.0 kPa, T: 359.30 K, h: 2661 kJ/kg, s: 8.38 kJ/kg, , Q: 1.00\n",
      "-------------------------------------------------------------------\n",
      "Heat Input : 4459 kJ/kg\n",
      "Net Work   : 1990 kJ/kg\n",
      "Heat Output: 2469 kJ/kg\n",
      "-------------------------------------------------------------------\n",
      "Cycle Efficiency: 0.446 \n"
     ]
    }
   ],
   "source": [
    "# Rankine cycle for water with no reheat, no regeneration.\n",
    "\n",
    "R1 = Rankine(150e5, 1300, 0.10e5, 'Water', eta_pump=0.90, eta_turb=0.90, eta_regen=0.00)\n",
    "R1.compute(verbose=True)"
   ]
  },
  {
   "cell_type": "code",
   "execution_count": 43,
   "metadata": {},
   "outputs": [
    {
     "name": "stdout",
     "output_type": "stream",
     "text": [
      "State 1, P:  10.0 kPa, T: 318.96 K, h: 191 kJ/kg, s: 0.65 kJ/kg, Q: 0.00\n",
      "State 2, P: 15000.0 kPa, T: 319.86 K, h: 208 kJ/kg, s: 0.65 kJ/kg, , Q: 0.00\n",
      "State 3, P: 15000.0 kPa, T: 590.00 K, h: 1434 kJ/kg, s: 4.55 kJ/kg, , Q: 1.00\n",
      "State 4, P: 15000.0 kPa, T: 1300.00 K, h: 4668 kJ/kg, s: 7.69 kJ/kg, , Q: 1.00\n",
      "State 5, P: 10.0 kPa, T: 359.30 K, h: 2661 kJ/kg, s: 8.38 kJ/kg, , Q: 1.00\n",
      "State 6, P: 10.0 kPa, T: 318.96 K, h: 1434 kJ/kg, s: 4.55 kJ/kg, , Q: 1.00\n",
      "-------------------------------------------------------------------\n",
      "Heat Input : 3233 kJ/kg\n",
      "Net Work   : 1990 kJ/kg\n",
      "Heat Output: 1243 kJ/kg\n",
      "-------------------------------------------------------------------\n",
      "Cycle Efficiency: 0.616 \n"
     ]
    }
   ],
   "source": [
    "# Rankine cycle for water with no reheat, with regeneration.\n",
    "\n",
    "R2 = Rankine(150e5, 1300, 0.10e5, 'Water', eta_pump=0.90, eta_turb=0.90, eta_regen=0.50)\n",
    "R2.compute()"
   ]
  },
  {
   "cell_type": "code",
   "execution_count": 44,
   "metadata": {},
   "outputs": [
    {
     "name": "stdout",
     "output_type": "stream",
     "text": [
      "State 1, P:  10.0 kPa, T: 318.96 K, h: 191 kJ/kg, s: 0.65 kJ/kg, Q: 0.00\n",
      "State 2, P: 15000.0 kPa, T: 319.86 K, h: 208 kJ/kg, s: 0.65 kJ/kg, , Q: 0.00\n",
      "State 3, P: 15000.0 kPa, T: 615.31 K, h: 2376 kJ/kg, s: 4.93 kJ/kg, , Q: 1.00\n",
      "State 4, P: 15000.0 kPa, T: 1300.00 K, h: 4668 kJ/kg, s: 7.69 kJ/kg, , Q: 1.00\n",
      "State 5, P: 387.3 kPa, T: 678.37 K, h: 3285 kJ/kg, s: 7.93 kJ/kg, , Q: 1.00\n",
      "State 6, P: 387.3 kPa, T: 1300.00 K, h: 4708 kJ/kg, s: 9.41 kJ/kg, , Q: 1.00\n",
      "State 7, P: 10.0 kPa, T: 685.63 K, h: 3305 kJ/kg, s: 9.65 kJ/kg, , Q: 1.00\n",
      "State 8, P: 10.0 kPa, T: 318.96 K, h: 1137 kJ/kg, s: 3.61 kJ/kg, , Q: 1.00\n",
      "-------------------------------------------------------------------\n",
      "Heat Input : 3715 kJ/kg\n",
      "Net Work   : 2769 kJ/kg\n",
      "Heat Output: 945 kJ/kg\n",
      "-------------------------------------------------------------------\n",
      "Cycle Efficiency: 0.745 \n"
     ]
    }
   ],
   "source": [
    "# Rankine cycle for water with reheat, with regeneration.\n",
    "\n",
    "R3 = Rankine(150e5, 1300, 0.10e5, 'Water', eta_pump=0.90, eta_turb=0.90, eta_regen=0.70, reheat=True)\n",
    "R3.compute()"
   ]
  },
  {
   "cell_type": "code",
   "execution_count": 45,
   "metadata": {},
   "outputs": [
    {
     "name": "stdout",
     "output_type": "stream",
     "text": [
      "State 1, P:  15.0 kPa, T: 64.15 K, h: -148 kJ/kg, s: 2.46 kJ/kg, Q: 0.00\n",
      "State 2, P: 15000.0 kPa, T: 67.67 K, h: -129 kJ/kg, s: 2.49 kJ/kg, , Q: 0.00\n",
      "State 3, P: 15000.0 kPa, T: 67.67 K, h: -129 kJ/kg, s: 2.76 kJ/kg, , Q: 1.00\n",
      "State 4, P: 15000.0 kPa, T: 1300.00 K, h: 1447 kJ/kg, s: 6.97 kJ/kg, , Q: 1.00\n",
      "State 5, P: 15.0 kPa, T: 316.10 K, h: 328 kJ/kg, s: 7.46 kJ/kg, , Q: 1.00\n",
      "State 6, P: 15.0 kPa, T: 316.10 K, h: 328 kJ/kg, s: 7.46 kJ/kg, , Q: 1.00\n",
      "-------------------------------------------------------------------\n",
      "Heat Input : 1577 kJ/kg\n",
      "Net Work   : 1100 kJ/kg\n",
      "Heat Output: 476 kJ/kg\n",
      "-------------------------------------------------------------------\n",
      "Cycle Efficiency: 0.698 \n"
     ]
    }
   ],
   "source": [
    "# Rankine cycle for N2 with no reheat, no regeneration.\n",
    "\n",
    "R4 = Rankine(150e5, 1300, 0.15e5, 'Nitrogen', eta_pump=0.90, eta_turb=0.90, eta_regen=0.00)\n",
    "R4.compute()"
   ]
  },
  {
   "cell_type": "code",
   "execution_count": 46,
   "metadata": {},
   "outputs": [
    {
     "name": "stdout",
     "output_type": "stream",
     "text": [
      "State 1, P:  15.0 kPa, T: 64.15 K, h: -148 kJ/kg, s: 2.46 kJ/kg, Q: 0.00\n",
      "State 2, P: 15000.0 kPa, T: 67.67 K, h: -129 kJ/kg, s: 2.49 kJ/kg, , Q: 0.00\n",
      "State 3, P: 15000.0 kPa, T: 202.53 K, h: 145 kJ/kg, s: 6.62 kJ/kg, , Q: 1.00\n",
      "State 4, P: 15000.0 kPa, T: 1300.00 K, h: 1447 kJ/kg, s: 6.97 kJ/kg, , Q: 1.00\n",
      "State 5, P: 15.0 kPa, T: 316.10 K, h: 328 kJ/kg, s: 7.46 kJ/kg, , Q: 1.00\n",
      "State 6, P: 15.0 kPa, T: 64.15 K, h: 53 kJ/kg, s: 5.61 kJ/kg, , Q: 1.00\n",
      "-------------------------------------------------------------------\n",
      "Heat Input : 1302 kJ/kg\n",
      "Net Work   : 1100 kJ/kg\n",
      "Heat Output: 202 kJ/kg\n",
      "-------------------------------------------------------------------\n",
      "Cycle Efficiency: 0.845 \n"
     ]
    }
   ],
   "source": [
    "# Rankine cycle for N2 with no reheat, with regeneration.\n",
    "\n",
    "R5 = Rankine(150e5, 1300, 0.15e5, 'Nitrogen', eta_pump=0.90, eta_turb=0.90, eta_regen=0.60)\n",
    "R5.compute()"
   ]
  },
  {
   "cell_type": "code",
   "execution_count": 47,
   "metadata": {},
   "outputs": [
    {
     "name": "stdout",
     "output_type": "stream",
     "text": [
      "State 1, P:  15.0 kPa, T: 64.15 K, h: -148 kJ/kg, s: 2.46 kJ/kg, Q: 0.00\n",
      "State 2, P: 15000.0 kPa, T: 67.67 K, h: -129 kJ/kg, s: 2.49 kJ/kg, , Q: 0.00\n",
      "State 3, P: 15000.0 kPa, T: 469.92 K, h: 483 kJ/kg, s: 5.80 kJ/kg, , Q: 1.00\n",
      "State 4, P: 15000.0 kPa, T: 1300.00 K, h: 1447 kJ/kg, s: 6.97 kJ/kg, , Q: 1.00\n",
      "State 5, P: 474.3 kPa, T: 609.37 K, h: 637 kJ/kg, s: 7.13 kJ/kg, , Q: 1.00\n",
      "State 6, P: 474.3 kPa, T: 1300.00 K, h: 1434 kJ/kg, s: 8.00 kJ/kg, , Q: 1.00\n",
      "State 7, P: 15.0 kPa, T: 608.73 K, h: 636 kJ/kg, s: 8.15 kJ/kg, , Q: 1.00\n",
      "State 8, P: 15.0 kPa, T: 64.15 K, h: 23 kJ/kg, s: 5.14 kJ/kg, , Q: 1.00\n",
      "-------------------------------------------------------------------\n",
      "Heat Input : 1762 kJ/kg\n",
      "Net Work   : 1589 kJ/kg\n",
      "Heat Output: 172 kJ/kg\n",
      "-------------------------------------------------------------------\n",
      "Cycle Efficiency: 0.902 \n"
     ]
    }
   ],
   "source": [
    "# Rankine cycle for N2 with reheat, with regeneration.\n",
    "\n",
    "R6 = Rankine(150e5, 1300, 0.15e5, 'Nitrogen', \n",
    "             eta_pump=0.90, eta_turb=0.90, eta_regen=0.80, \n",
    "             reheat=True)\n",
    "R6.compute()"
   ]
  },
  {
   "cell_type": "code",
   "execution_count": 48,
   "metadata": {},
   "outputs": [
    {
     "name": "stdout",
     "output_type": "stream",
     "text": [
      "State 1, P:  15.0 kPa, T: 15.30 K, h: -44 kJ/kg, s: -2.41 kJ/kg, Q: 0.00\n",
      "State 2, P: 15000.0 kPa, T: 21.85 K, h: 164 kJ/kg, s: -1.39 kJ/kg, , Q: 0.00\n",
      "State 3, P: 15000.0 kPa, T: 21.85 K, h: 164 kJ/kg, s: 11.22 kJ/kg, , Q: 1.00\n",
      "State 4, P: 15000.0 kPa, T: 1300.00 K, h: 18909 kJ/kg, s: 54.42 kJ/kg, , Q: 1.00\n",
      "State 5, P: 15.0 kPa, T: 301.27 K, h: 3976 kJ/kg, s: 61.40 kJ/kg, , Q: 1.00\n",
      "State 6, P: 15.0 kPa, T: 301.27 K, h: 3976 kJ/kg, s: 61.40 kJ/kg, , Q: 1.00\n",
      "-------------------------------------------------------------------\n",
      "Heat Input : 18745 kJ/kg\n",
      "Net Work   : 14725 kJ/kg\n",
      "Heat Output: 4020 kJ/kg\n",
      "-------------------------------------------------------------------\n",
      "Cycle Efficiency: 0.786 \n"
     ]
    }
   ],
   "source": [
    "# Rankine cycle for H2 with no reheat, no regeneration.\n",
    "\n",
    "R7 = Rankine(150e5, 1300, 0.15e5, 'Hydrogen', eta_pump=0.90, eta_turb=0.90, eta_regen=0.00)\n",
    "R7.compute()"
   ]
  },
  {
   "cell_type": "code",
   "execution_count": 49,
   "metadata": {},
   "outputs": [
    {
     "name": "stdout",
     "output_type": "stream",
     "text": [
      "State 1, P:  15.0 kPa, T: 15.30 K, h: -44 kJ/kg, s: -2.41 kJ/kg, Q: 0.00\n",
      "State 2, P: 15000.0 kPa, T: 21.85 K, h: 164 kJ/kg, s: -1.39 kJ/kg, , Q: 0.00\n",
      "State 3, P: 15000.0 kPa, T: 212.19 K, h: 2756 kJ/kg, s: 56.64 kJ/kg, , Q: 1.00\n",
      "State 4, P: 15000.0 kPa, T: 1300.00 K, h: 18909 kJ/kg, s: 54.42 kJ/kg, , Q: 1.00\n",
      "State 5, P: 15.0 kPa, T: 301.27 K, h: 3976 kJ/kg, s: 61.40 kJ/kg, , Q: 1.00\n",
      "State 6, P: 15.0 kPa, T: 106.92 K, h: 1384 kJ/kg, s: 47.85 kJ/kg, , Q: 1.00\n",
      "-------------------------------------------------------------------\n",
      "Heat Input : 16153 kJ/kg\n",
      "Net Work   : 14725 kJ/kg\n",
      "Heat Output: 1428 kJ/kg\n",
      "-------------------------------------------------------------------\n",
      "Cycle Efficiency: 0.912 \n"
     ]
    }
   ],
   "source": [
    "# Rankine cycle for H2 with no reheat, with regeneration.\n",
    "\n",
    "R8 = Rankine(150e5, 1300, 0.15e5, 'Hydrogen', eta_pump=0.90, eta_turb=0.90, eta_regen=0.68)\n",
    "R8.compute()"
   ]
  },
  {
   "cell_type": "code",
   "execution_count": 50,
   "metadata": {},
   "outputs": [
    {
     "name": "stdout",
     "output_type": "stream",
     "text": [
      "State 1, P:  15.0 kPa, T: 15.30 K, h: -44 kJ/kg, s: -2.41 kJ/kg, Q: 0.00\n",
      "State 2, P: 15000.0 kPa, T: 21.85 K, h: 164 kJ/kg, s: -1.39 kJ/kg, , Q: 0.00\n",
      "State 3, P: 15000.0 kPa, T: 517.96 K, h: 7223 kJ/kg, s: 40.73 kJ/kg, , Q: 1.00\n",
      "State 4, P: 15000.0 kPa, T: 1300.00 K, h: 18909 kJ/kg, s: 54.42 kJ/kg, , Q: 1.00\n",
      "State 5, P: 474.3 kPa, T: 581.02 K, h: 8029 kJ/kg, s: 56.66 kJ/kg, , Q: 1.00\n",
      "State 6, P: 474.3 kPa, T: 1300.00 K, h: 18781 kJ/kg, s: 68.65 kJ/kg, , Q: 1.00\n",
      "State 7, P: 15.0 kPa, T: 579.77 K, h: 8008 kJ/kg, s: 70.88 kJ/kg, , Q: 1.00\n",
      "State 8, P: 15.0 kPa, T: 66.91 K, h: 948 kJ/kg, s: 42.77 kJ/kg, , Q: 1.00\n",
      "-------------------------------------------------------------------\n",
      "Heat Input : 22437 kJ/kg\n",
      "Net Work   : 21444 kJ/kg\n",
      "Heat Output: 992 kJ/kg\n",
      "-------------------------------------------------------------------\n",
      "Cycle Efficiency: 0.956 \n"
     ]
    }
   ],
   "source": [
    "# Rankine cycle for H2 with reheat, with regeneration.\n",
    "\n",
    "R9 = Rankine(150e5, 1300, 0.15e5, 'Hydrogen', eta_pump=0.90, eta_turb=0.90, eta_regen=0.90, reheat=True)\n",
    "R9.compute()"
   ]
  },
  {
   "cell_type": "code",
   "execution_count": 51,
   "metadata": {},
   "outputs": [
    {
     "name": "stdout",
     "output_type": "stream",
     "text": [
      "State 1, P:  15.0 kPa, T: 15.30 K, h: -44 kJ/kg, s: -2.41 kJ/kg, Q: 0.00\n",
      "State 2, P: 15000.0 kPa, T: 21.85 K, h: 164 kJ/kg, s: -1.39 kJ/kg, , Q: 0.00\n",
      "State 3, P: 15000.0 kPa, T: 550.17 K, h: 7694 kJ/kg, s: 41.61 kJ/kg, , Q: 1.00\n",
      "State 4, P: 15000.0 kPa, T: 1300.00 K, h: 18909 kJ/kg, s: 54.42 kJ/kg, , Q: 1.00\n",
      "State 5, P: 474.3 kPa, T: 581.02 K, h: 8029 kJ/kg, s: 56.66 kJ/kg, , Q: 1.00\n",
      "State 6, P: 474.3 kPa, T: 1300.00 K, h: 18781 kJ/kg, s: 68.65 kJ/kg, , Q: 1.00\n",
      "State 7, P: 15.0 kPa, T: 579.77 K, h: 8008 kJ/kg, s: 70.88 kJ/kg, , Q: 1.00\n",
      "State 8, P: 15.0 kPa, T: 21.57 K, h: 478 kJ/kg, s: 31.02 kJ/kg, , Q: 1.00\n",
      "-------------------------------------------------------------------\n",
      "Heat Input : 21966 kJ/kg\n",
      "Net Work   : 21444 kJ/kg\n",
      "Heat Output: 522 kJ/kg\n",
      "-------------------------------------------------------------------\n",
      "Cycle Efficiency: 0.976 \n"
     ]
    }
   ],
   "source": [
    "# Rankine cycle for H2 with reheat, with regeneration.\n",
    "\n",
    "R9a = Rankine(150e5, 1300, 0.15e5, 'Hydrogen', eta_pump=0.90, eta_turb=0.90, eta_regen=0.96, reheat=True)\n",
    "R9a.compute()"
   ]
  },
  {
   "cell_type": "code",
   "execution_count": 52,
   "metadata": {},
   "outputs": [
    {
     "name": "stdout",
     "output_type": "stream",
     "text": [
      "State 1, P:  1000.0 kPa, T: 233.03 K, h: 112 kJ/kg, s: 0.66 kJ/kg, Q: 0.00\n",
      "State 2, P: 15000.0 kPa, T: 238.72 K, h: 126 kJ/kg, s: 0.67 kJ/kg, , Q: 0.00\n",
      "State 3, P: 15000.0 kPa, T: 238.72 K, h: 126 kJ/kg, s: 0.72 kJ/kg, , Q: 1.00\n",
      "State 4, P: 15000.0 kPa, T: 1300.00 K, h: 1646 kJ/kg, s: 3.38 kJ/kg, , Q: 1.00\n",
      "State 5, P: 1000.0 kPa, T: 904.76 K, h: 1148 kJ/kg, s: 3.44 kJ/kg, , Q: 1.00\n",
      "State 6, P: 1000.0 kPa, T: 904.76 K, h: 1148 kJ/kg, s: 3.44 kJ/kg, , Q: 1.00\n",
      "-------------------------------------------------------------------\n",
      "Heat Input : 1519 kJ/kg\n",
      "Net Work   : 483 kJ/kg\n",
      "Heat Output: 1036 kJ/kg\n",
      "-------------------------------------------------------------------\n",
      "Cycle Efficiency: 0.318 \n"
     ]
    }
   ],
   "source": [
    "# Rankine with CO2, no reheat, no regeneration.\n",
    "\n",
    "R10 = Rankine(150e5, 1300, 10e5, 'CarbonDioxide', eta_pump=0.90, eta_turb=0.90, eta_regen=0.00)\n",
    "R10.compute()"
   ]
  },
  {
   "cell_type": "code",
   "execution_count": 53,
   "metadata": {},
   "outputs": [
    {
     "name": "stdout",
     "output_type": "stream",
     "text": [
      "State 1, P:  1000.0 kPa, T: 233.03 K, h: 112 kJ/kg, s: 0.66 kJ/kg, Q: 0.00\n",
      "State 2, P: 15000.0 kPa, T: 238.72 K, h: 126 kJ/kg, s: 0.67 kJ/kg, , Q: 0.00\n",
      "State 3, P: 15000.0 kPa, T: 575.15 K, h: 739 kJ/kg, s: 2.87 kJ/kg, , Q: 1.00\n",
      "State 4, P: 15000.0 kPa, T: 1300.00 K, h: 1646 kJ/kg, s: 3.38 kJ/kg, , Q: 1.00\n",
      "State 5, P: 1000.0 kPa, T: 904.76 K, h: 1148 kJ/kg, s: 3.44 kJ/kg, , Q: 1.00\n",
      "State 6, P: 1000.0 kPa, T: 339.54 K, h: 535 kJ/kg, s: 2.40 kJ/kg, , Q: 1.00\n",
      "-------------------------------------------------------------------\n",
      "Heat Input : 906 kJ/kg\n",
      "Net Work   : 483 kJ/kg\n",
      "Heat Output: 422 kJ/kg\n",
      "-------------------------------------------------------------------\n",
      "Cycle Efficiency: 0.534 \n"
     ]
    }
   ],
   "source": [
    "# Rankine with Co2, with no reheat, with regeneration\n",
    "R11 = Rankine(150e5, 1300, 10e5, 'CarbonDioxide', eta_pump=0.90, eta_turb=0.90, eta_regen=0.60)\n",
    "R11.compute()"
   ]
  },
  {
   "cell_type": "code",
   "execution_count": 54,
   "metadata": {},
   "outputs": [
    {
     "name": "stdout",
     "output_type": "stream",
     "text": [
      "State 1, P:  1000.0 kPa, T: 233.03 K, h: 112 kJ/kg, s: 0.66 kJ/kg, Q: 0.00\n",
      "State 2, P: 15000.0 kPa, T: 238.72 K, h: 126 kJ/kg, s: 0.67 kJ/kg, , Q: 0.00\n",
      "State 3, P: 15000.0 kPa, T: 841.90 K, h: 1061 kJ/kg, s: 2.83 kJ/kg, , Q: 1.00\n",
      "State 4, P: 15000.0 kPa, T: 1300.00 K, h: 1646 kJ/kg, s: 3.38 kJ/kg, , Q: 1.00\n",
      "State 5, P: 3873.0 kPa, T: 1084.78 K, h: 1370 kJ/kg, s: 3.41 kJ/kg, , Q: 1.00\n",
      "State 6, P: 3873.0 kPa, T: 1300.00 K, h: 1646 kJ/kg, s: 3.64 kJ/kg, , Q: 1.00\n",
      "State 7, P: 1000.0 kPa, T: 1086.90 K, h: 1373 kJ/kg, s: 3.67 kJ/kg, , Q: 1.00\n",
      "State 8, P: 1000.0 kPa, T: 235.93 K, h: 438 kJ/kg, s: 2.06 kJ/kg, , Q: 1.00\n",
      "-------------------------------------------------------------------\n",
      "Heat Input : 860 kJ/kg\n",
      "Net Work   : 535 kJ/kg\n",
      "Heat Output: 325 kJ/kg\n",
      "-------------------------------------------------------------------\n",
      "Cycle Efficiency: 0.622 \n"
     ]
    }
   ],
   "source": [
    "# Rankine with Co2, with reheat and regeneration\n",
    "R12 = Rankine(150e5, 1300, 10e5, 'CarbonDioxide', eta_pump=0.90, eta_turb=0.90, eta_regen=0.75, reheat=True)\n",
    "R12.compute()"
   ]
  },
  {
   "cell_type": "code",
   "execution_count": 55,
   "metadata": {},
   "outputs": [
    {
     "name": "stdout",
     "output_type": "stream",
     "text": [
      "-------------------------------------------------------------------\n",
      "Pseudo-Stirling Efficiency: 0.870 \n",
      "-------------------------------------------------------------------\n",
      "-------------------------------------------------------------------\n",
      "Pseudo-Stirling Efficiency: 0.789 \n",
      "-------------------------------------------------------------------\n",
      "-------------------------------------------------------------------\n",
      "Pseudo-Stirling Efficiency: 0.718 \n",
      "-------------------------------------------------------------------\n",
      "-------------------------------------------------------------------\n",
      "Pseudo-Stirling Efficiency: 0.654 \n",
      "-------------------------------------------------------------------\n",
      "-------------------------------------------------------------------\n",
      "Pseudo-Stirling Efficiency: 0.592 \n",
      "-------------------------------------------------------------------\n"
     ]
    }
   ],
   "source": [
    "# Striling cycle for H2\n",
    "\n",
    "T7_arr = np.linspace(25, 300, 5) # temp. arr \n",
    "S1_arr = np.array([])\n",
    "\n",
    "for T in T7_arr:\n",
    "    S1   = Stirling(1e5, T, 1300, 2.50, eta_regen=0.95, fluid='Hydrogen')\n",
    "    S1.compute(verbose=True)\n",
    "    S1_arr = np.append(S1_arr, S1.eff)"
   ]
  },
  {
   "cell_type": "code",
   "execution_count": 56,
   "metadata": {},
   "outputs": [
    {
     "name": "stdout",
     "output_type": "stream",
     "text": [
      "-------------------------------------------------------------------\n",
      "Pseudo-Stirling Efficiency: 0.893 \n",
      "-------------------------------------------------------------------\n",
      "-------------------------------------------------------------------\n",
      "Pseudo-Stirling Efficiency: 0.806 \n",
      "-------------------------------------------------------------------\n",
      "-------------------------------------------------------------------\n",
      "Pseudo-Stirling Efficiency: 0.715 \n",
      "-------------------------------------------------------------------\n",
      "-------------------------------------------------------------------\n",
      "Pseudo-Stirling Efficiency: 0.623 \n",
      "-------------------------------------------------------------------\n",
      "-------------------------------------------------------------------\n",
      "Pseudo-Stirling Efficiency: 0.530 \n",
      "-------------------------------------------------------------------\n"
     ]
    }
   ],
   "source": [
    "# Striling cycle for He\n",
    "\n",
    "T8_arr = np.linspace(5, 300, 5) # temp. arr \n",
    "S2_arr = np.array([])\n",
    "\n",
    "for T in T8_arr:\n",
    "    S2   = Stirling(1e5, T, 1300, 2.5, eta_regen=0.95, fluid='Helium')\n",
    "    S2.compute(verbose=True)\n",
    "    S2_arr = np.append(S2_arr, S2.eff)"
   ]
  },
  {
   "cell_type": "code",
   "execution_count": 57,
   "metadata": {},
   "outputs": [
    {
     "name": "stdout",
     "output_type": "stream",
     "text": [
      "-------------------------------------------------------------------\n",
      "Pseudo-Stirling Efficiency: 0.726 \n",
      "-------------------------------------------------------------------\n",
      "-------------------------------------------------------------------\n",
      "Pseudo-Stirling Efficiency: 0.658 \n",
      "-------------------------------------------------------------------\n",
      "-------------------------------------------------------------------\n",
      "Pseudo-Stirling Efficiency: 0.588 \n",
      "-------------------------------------------------------------------\n",
      "-------------------------------------------------------------------\n",
      "Pseudo-Stirling Efficiency: 0.533 \n",
      "-------------------------------------------------------------------\n",
      "-------------------------------------------------------------------\n",
      "Pseudo-Stirling Efficiency: 0.485 \n",
      "-------------------------------------------------------------------\n"
     ]
    }
   ],
   "source": [
    "T9_arr = np.linspace(25, 300, 5) # temp. arr \n",
    "S3_arr = np.array([])\n",
    "\n",
    "for T in T7_arr:\n",
    "    S3   = Stirling(1e5, T, 1300, 2.50, eta_regen=0.85, fluid='Hydrogen')\n",
    "    S3.compute(verbose=True)\n",
    "    S3_arr = np.append(S3_arr, S3.eff)"
   ]
  },
  {
   "cell_type": "code",
   "execution_count": 58,
   "metadata": {},
   "outputs": [
    {
     "name": "stdout",
     "output_type": "stream",
     "text": [
      "-------------------------------------------------------------------\n",
      "Pseudo-Stirling Efficiency: 0.744 \n",
      "-------------------------------------------------------------------\n",
      "-------------------------------------------------------------------\n",
      "Pseudo-Stirling Efficiency: 0.679 \n",
      "-------------------------------------------------------------------\n",
      "-------------------------------------------------------------------\n",
      "Pseudo-Stirling Efficiency: 0.608 \n",
      "-------------------------------------------------------------------\n",
      "-------------------------------------------------------------------\n",
      "Pseudo-Stirling Efficiency: 0.535 \n",
      "-------------------------------------------------------------------\n",
      "-------------------------------------------------------------------\n",
      "Pseudo-Stirling Efficiency: 0.459 \n",
      "-------------------------------------------------------------------\n"
     ]
    }
   ],
   "source": [
    "# Striling cycle for He\n",
    "\n",
    "T10_arr = np.linspace(5, 300, 5) # temp. arr \n",
    "S4_arr = np.array([])\n",
    "\n",
    "for T in T8_arr:\n",
    "    S4   = Stirling(1e5, T, 1300, 2.5, eta_regen=0.85, fluid='Helium')\n",
    "    S4.compute(verbose=True)\n",
    "    S4_arr = np.append(S4_arr, S4.eff)"
   ]
  },
  {
   "cell_type": "code",
   "execution_count": 59,
   "metadata": {},
   "outputs": [
    {
     "name": "stdout",
     "output_type": "stream",
     "text": [
      "State 1, P:  50.0 kPa, T: 354.47 K, h: 340 kJ/kg, s: 1.09 kJ/kg, Q: 0.00\n",
      "State 2, P: 15000.0 kPa, T: 355.71 K, h: 357 kJ/kg, s: 1.10 kJ/kg, , Q: 0.00\n",
      "State 3, P: 15000.0 kPa, T: 355.71 K, h: 357 kJ/kg, s: 1.14 kJ/kg, , Q: 1.00\n",
      "State 4, P: 15000.0 kPa, T: 1300.00 K, h: 4668 kJ/kg, s: 7.69 kJ/kg, , Q: 1.00\n",
      "State 5, P: 50.0 kPa, T: 474.18 K, h: 2879 kJ/kg, s: 8.16 kJ/kg, , Q: 1.00\n",
      "State 6, P: 50.0 kPa, T: 474.18 K, h: 2879 kJ/kg, s: 8.16 kJ/kg, , Q: 1.00\n",
      "-------------------------------------------------------------------\n",
      "Heat Input : 4310 kJ/kg\n",
      "Net Work   : 1771 kJ/kg\n",
      "Heat Output: 2539 kJ/kg\n",
      "-------------------------------------------------------------------\n",
      "Cycle Efficiency: 0.411 \n"
     ]
    }
   ],
   "source": [
    "# Rankine cycle for water at 354K with no reheat, no regeneration.\n",
    "\n",
    "R13 = Rankine(150e5, 1300, 0.50e5, 'Water', eta_pump=0.90, eta_turb=0.90, eta_regen=0.00)\n",
    "R13.compute()"
   ]
  },
  {
   "cell_type": "code",
   "execution_count": 60,
   "metadata": {},
   "outputs": [
    {
     "name": "stdout",
     "output_type": "stream",
     "text": [
      "State 1, P:  50.0 kPa, T: 354.47 K, h: 340 kJ/kg, s: 1.09 kJ/kg, Q: 0.00\n",
      "State 2, P: 15000.0 kPa, T: 355.71 K, h: 357 kJ/kg, s: 1.10 kJ/kg, , Q: 0.00\n",
      "State 3, P: 15000.0 kPa, T: 615.31 K, h: 1618 kJ/kg, s: 4.70 kJ/kg, , Q: 1.00\n",
      "State 4, P: 15000.0 kPa, T: 1300.00 K, h: 4668 kJ/kg, s: 7.69 kJ/kg, , Q: 1.00\n",
      "State 5, P: 50.0 kPa, T: 474.18 K, h: 2879 kJ/kg, s: 8.16 kJ/kg, , Q: 1.00\n",
      "State 6, P: 50.0 kPa, T: 354.47 K, h: 1618 kJ/kg, s: 4.70 kJ/kg, , Q: 1.00\n",
      "-------------------------------------------------------------------\n",
      "Heat Input : 3049 kJ/kg\n",
      "Net Work   : 1771 kJ/kg\n",
      "Heat Output: 1278 kJ/kg\n",
      "-------------------------------------------------------------------\n",
      "Cycle Efficiency: 0.581 \n"
     ]
    }
   ],
   "source": [
    "# Rankine cycle for water at 354K with no reheat, with regeneration.\n",
    "\n",
    "R14 = Rankine(150e5, 1300, 0.50e5, 'Water', eta_pump=0.90, eta_turb=0.90, eta_regen=0.50)\n",
    "R14.compute()"
   ]
  },
  {
   "cell_type": "code",
   "execution_count": 61,
   "metadata": {},
   "outputs": [
    {
     "name": "stdout",
     "output_type": "stream",
     "text": [
      "State 1, P:  50.0 kPa, T: 354.47 K, h: 340 kJ/kg, s: 1.09 kJ/kg, Q: 0.00\n",
      "State 2, P: 15000.0 kPa, T: 355.71 K, h: 357 kJ/kg, s: 1.10 kJ/kg, , Q: 0.00\n",
      "State 3, P: 15000.0 kPa, T: 615.31 K, h: 2577 kJ/kg, s: 5.26 kJ/kg, , Q: 1.00\n",
      "State 4, P: 15000.0 kPa, T: 1300.00 K, h: 4668 kJ/kg, s: 7.69 kJ/kg, , Q: 1.00\n",
      "State 5, P: 866.0 kPa, T: 784.34 K, h: 3504 kJ/kg, s: 7.86 kJ/kg, , Q: 1.00\n",
      "State 6, P: 866.0 kPa, T: 1300.00 K, h: 4707 kJ/kg, s: 9.03 kJ/kg, , Q: 1.00\n",
      "State 7, P: 50.0 kPa, T: 791.40 K, h: 3528 kJ/kg, s: 9.21 kJ/kg, , Q: 1.00\n",
      "State 8, P: 50.0 kPa, T: 354.47 K, h: 1308 kJ/kg, s: 3.82 kJ/kg, , Q: 1.00\n",
      "-------------------------------------------------------------------\n",
      "Heat Input : 3293 kJ/kg\n",
      "Net Work   : 2325 kJ/kg\n",
      "Heat Output: 968 kJ/kg\n",
      "-------------------------------------------------------------------\n",
      "Cycle Efficiency: 0.706 \n"
     ]
    }
   ],
   "source": [
    "# Rankine cycle for water at 354K with reheat, with regeneration.\n",
    "\n",
    "R15 = Rankine(150e5, 1300, 0.50e5, 'Water', eta_pump=0.90, eta_turb=0.90, eta_regen=0.70, reheat=True)\n",
    "R15.compute()"
   ]
  },
  {
   "cell_type": "code",
   "execution_count": 62,
   "metadata": {},
   "outputs": [
    {
     "name": "stdout",
     "output_type": "stream",
     "text": [
      "State 1, P:  200.0 kPa, T: 393.36 K, h: 504 kJ/kg, s: 1.53 kJ/kg, Q: 0.00\n",
      "State 2, P: 15000.0 kPa, T: 395.01 K, h: 522 kJ/kg, s: 1.53 kJ/kg, , Q: 0.00\n",
      "State 3, P: 15000.0 kPa, T: 395.01 K, h: 522 kJ/kg, s: 1.57 kJ/kg, , Q: 1.00\n",
      "State 4, P: 15000.0 kPa, T: 1300.00 K, h: 4668 kJ/kg, s: 7.69 kJ/kg, , Q: 1.00\n",
      "State 5, P: 200.0 kPa, T: 602.80 K, h: 3132 kJ/kg, s: 8.00 kJ/kg, , Q: 1.00\n",
      "State 6, P: 200.0 kPa, T: 602.80 K, h: 3132 kJ/kg, s: 8.00 kJ/kg, , Q: 1.00\n",
      "-------------------------------------------------------------------\n",
      "Heat Input : 4146 kJ/kg\n",
      "Net Work   : 1518 kJ/kg\n",
      "Heat Output: 2627 kJ/kg\n",
      "-------------------------------------------------------------------\n",
      "Cycle Efficiency: 0.366 \n"
     ]
    }
   ],
   "source": [
    "# Rankine cycle for water at 393K with no reheat, no regeneration.\n",
    "\n",
    "R16 = Rankine(150e5, 1300, 2.00e5, 'Water', eta_pump=0.90, eta_turb=0.90, eta_regen=0.00)\n",
    "R16.compute()"
   ]
  },
  {
   "cell_type": "code",
   "execution_count": 63,
   "metadata": {},
   "outputs": [
    {
     "name": "stdout",
     "output_type": "stream",
     "text": [
      "State 1, P:  200.0 kPa, T: 393.36 K, h: 504 kJ/kg, s: 1.53 kJ/kg, Q: 0.00\n",
      "State 2, P: 15000.0 kPa, T: 395.01 K, h: 522 kJ/kg, s: 1.53 kJ/kg, , Q: 0.00\n",
      "State 3, P: 15000.0 kPa, T: 615.31 K, h: 1827 kJ/kg, s: 4.89 kJ/kg, , Q: 1.00\n",
      "State 4, P: 15000.0 kPa, T: 1300.00 K, h: 4668 kJ/kg, s: 7.69 kJ/kg, , Q: 1.00\n",
      "State 5, P: 200.0 kPa, T: 602.80 K, h: 3132 kJ/kg, s: 8.00 kJ/kg, , Q: 1.00\n",
      "State 6, P: 200.0 kPa, T: 393.36 K, h: 1827 kJ/kg, s: 4.89 kJ/kg, , Q: 1.00\n",
      "-------------------------------------------------------------------\n",
      "Heat Input : 2841 kJ/kg\n",
      "Net Work   : 1518 kJ/kg\n",
      "Heat Output: 1322 kJ/kg\n",
      "-------------------------------------------------------------------\n",
      "Cycle Efficiency: 0.535 \n"
     ]
    }
   ],
   "source": [
    "# Rankine cycle for water at 393K with no reheat, with regeneration.\n",
    "\n",
    "R17 = Rankine(150e5, 1300, 2.00e5, 'Water', eta_pump=0.90, eta_turb=0.90, eta_regen=0.50)\n",
    "R17.compute()"
   ]
  },
  {
   "cell_type": "code",
   "execution_count": 64,
   "metadata": {},
   "outputs": [
    {
     "name": "stdout",
     "output_type": "stream",
     "text": [
      "State 1, P:  200.0 kPa, T: 393.36 K, h: 504 kJ/kg, s: 1.53 kJ/kg, Q: 0.00\n",
      "State 2, P: 15000.0 kPa, T: 395.01 K, h: 522 kJ/kg, s: 1.53 kJ/kg, , Q: 0.00\n",
      "State 3, P: 15000.0 kPa, T: 635.30 K, h: 2783 kJ/kg, s: 5.59 kJ/kg, , Q: 1.00\n",
      "State 4, P: 15000.0 kPa, T: 1300.00 K, h: 4668 kJ/kg, s: 7.69 kJ/kg, , Q: 1.00\n",
      "State 5, P: 1732.1 kPa, T: 888.78 K, h: 3727 kJ/kg, s: 7.81 kJ/kg, , Q: 1.00\n",
      "State 6, P: 1732.1 kPa, T: 1300.00 K, h: 4704 kJ/kg, s: 8.71 kJ/kg, , Q: 1.00\n",
      "State 7, P: 200.0 kPa, T: 895.05 K, h: 3753 kJ/kg, s: 8.83 kJ/kg, , Q: 1.00\n",
      "State 8, P: 200.0 kPa, T: 393.36 K, h: 1491 kJ/kg, s: 4.04 kJ/kg, , Q: 1.00\n",
      "-------------------------------------------------------------------\n",
      "Heat Input : 2861 kJ/kg\n",
      "Net Work   : 1874 kJ/kg\n",
      "Heat Output: 986 kJ/kg\n",
      "-------------------------------------------------------------------\n",
      "Cycle Efficiency: 0.655 \n"
     ]
    }
   ],
   "source": [
    "# Rankine cycle for water at 393K with reheat, with regeneration.\n",
    "\n",
    "R18 = Rankine(150e5, 1300, 2.00e5, 'Water', eta_pump=0.90, eta_turb=0.90, eta_regen=0.70, reheat=True)\n",
    "R18.compute()"
   ]
  },
  {
   "cell_type": "code",
   "execution_count": 65,
   "metadata": {},
   "outputs": [
    {
     "name": "stdout",
     "output_type": "stream",
     "text": [
      "State 1, P:  1.0 kPa, T: 280.12 K, h: 29 kJ/kg, s: 0.11 kJ/kg, Q: 0.00\n",
      "State 2, P: 15000.0 kPa, T: 280.59 K, h: 45 kJ/kg, s: 0.11 kJ/kg, , Q: 0.00\n",
      "State 3, P: 15000.0 kPa, T: 280.59 K, h: 45 kJ/kg, s: 0.17 kJ/kg, , Q: 1.00\n",
      "State 4, P: 15000.0 kPa, T: 1300.00 K, h: 4668 kJ/kg, s: 7.69 kJ/kg, , Q: 1.00\n",
      "State 5, P: 1.0 kPa, T: 280.12 K, h: 2405 kJ/kg, s: 8.59 kJ/kg, , Q: 1.00\n",
      "State 6, P: 1.0 kPa, T: 280.12 K, h: 2405 kJ/kg, s: 8.59 kJ/kg, , Q: 1.00\n",
      "-------------------------------------------------------------------\n",
      "Heat Input : 4622 kJ/kg\n",
      "Net Work   : 2246 kJ/kg\n",
      "Heat Output: 2376 kJ/kg\n",
      "-------------------------------------------------------------------\n",
      "Cycle Efficiency: 0.486 \n"
     ]
    }
   ],
   "source": [
    "# Rankine cycle for water at 280K with no reheat, no regeneration.\n",
    "\n",
    "R19 = Rankine(150e5, 1300, 0.01e5, 'Water', eta_pump=0.90, eta_turb=0.90, eta_regen=0.00)\n",
    "R19.compute()"
   ]
  },
  {
   "cell_type": "code",
   "execution_count": 66,
   "metadata": {},
   "outputs": [
    {
     "name": "stdout",
     "output_type": "stream",
     "text": [
      "State 1, P:  1.0 kPa, T: 280.12 K, h: 29 kJ/kg, s: 0.11 kJ/kg, Q: 0.00\n",
      "State 2, P: 15000.0 kPa, T: 280.59 K, h: 45 kJ/kg, s: 0.11 kJ/kg, , Q: 0.00\n",
      "State 3, P: 15000.0 kPa, T: 551.72 K, h: 1225 kJ/kg, s: 4.38 kJ/kg, , Q: 1.00\n",
      "State 4, P: 15000.0 kPa, T: 1300.00 K, h: 4668 kJ/kg, s: 7.69 kJ/kg, , Q: 1.00\n",
      "State 5, P: 1.0 kPa, T: 280.12 K, h: 2405 kJ/kg, s: 8.59 kJ/kg, , Q: 1.00\n",
      "State 6, P: 1.0 kPa, T: 280.12 K, h: 1225 kJ/kg, s: 4.38 kJ/kg, , Q: 1.00\n",
      "-------------------------------------------------------------------\n",
      "Heat Input : 3442 kJ/kg\n",
      "Net Work   : 2246 kJ/kg\n",
      "Heat Output: 1196 kJ/kg\n",
      "-------------------------------------------------------------------\n",
      "Cycle Efficiency: 0.652 \n"
     ]
    }
   ],
   "source": [
    "# Rankine cycle for water at 280K with no reheat, with regeneration.\n",
    "\n",
    "R20 = Rankine(150e5, 1300, 0.01e5, 'Water', eta_pump=0.90, eta_turb=0.90, eta_regen=0.50)\n",
    "R20.compute()"
   ]
  },
  {
   "cell_type": "code",
   "execution_count": 67,
   "metadata": {},
   "outputs": [
    {
     "name": "stdout",
     "output_type": "stream",
     "text": [
      "State 1, P:  1.0 kPa, T: 280.12 K, h: 29 kJ/kg, s: 0.11 kJ/kg, Q: 0.00\n",
      "State 2, P: 15000.0 kPa, T: 280.59 K, h: 45 kJ/kg, s: 0.11 kJ/kg, , Q: 0.00\n",
      "State 3, P: 15000.0 kPa, T: 615.31 K, h: 2148 kJ/kg, s: 4.56 kJ/kg, , Q: 1.00\n",
      "State 4, P: 15000.0 kPa, T: 1300.00 K, h: 4668 kJ/kg, s: 7.69 kJ/kg, , Q: 1.00\n",
      "State 5, P: 122.5 kPa, T: 552.92 K, h: 3033 kJ/kg, s: 8.05 kJ/kg, , Q: 1.00\n",
      "State 6, P: 122.5 kPa, T: 1300.00 K, h: 4709 kJ/kg, s: 9.94 kJ/kg, , Q: 1.00\n",
      "State 7, P: 1.0 kPa, T: 559.78 K, h: 3050 kJ/kg, s: 10.30 kJ/kg, , Q: 1.00\n",
      "State 8, P: 1.0 kPa, T: 280.12 K, h: 947 kJ/kg, s: 3.38 kJ/kg, , Q: 1.00\n",
      "-------------------------------------------------------------------\n",
      "Heat Input : 4195 kJ/kg\n",
      "Net Work   : 3277 kJ/kg\n",
      "Heat Output: 917 kJ/kg\n",
      "-------------------------------------------------------------------\n",
      "Cycle Efficiency: 0.781 \n"
     ]
    }
   ],
   "source": [
    "# Rankine cycle for water at 288K with reheat, with regeneration.\n",
    "\n",
    "R21 = Rankine(150e5, 1300, 0.01e5, 'Water', eta_pump=0.90, eta_turb=0.90, eta_regen=0.70, reheat=True)\n",
    "R21.compute()"
   ]
  },
  {
   "cell_type": "code",
   "execution_count": 68,
   "metadata": {},
   "outputs": [
    {
     "name": "stdout",
     "output_type": "stream",
     "text": [
      "State 1, P:  3000.0 kPa, T: 267.60 K, h: 186 kJ/kg, s: 0.95 kJ/kg, Q: 0.00\n",
      "State 2, P: 15000.0 kPa, T: 276.22 K, h: 200 kJ/kg, s: 0.96 kJ/kg, , Q: 0.00\n",
      "State 3, P: 15000.0 kPa, T: 276.22 K, h: 200 kJ/kg, s: 1.00 kJ/kg, , Q: 1.00\n",
      "State 4, P: 15000.0 kPa, T: 1300.00 K, h: 1646 kJ/kg, s: 3.38 kJ/kg, , Q: 1.00\n",
      "State 5, P: 3000.0 kPa, T: 1048.35 K, h: 1324 kJ/kg, s: 3.42 kJ/kg, , Q: 1.00\n",
      "State 6, P: 3000.0 kPa, T: 1048.35 K, h: 1324 kJ/kg, s: 3.42 kJ/kg, , Q: 1.00\n",
      "-------------------------------------------------------------------\n",
      "Heat Input : 1445 kJ/kg\n",
      "Net Work   : 308 kJ/kg\n",
      "Heat Output: 1137 kJ/kg\n",
      "-------------------------------------------------------------------\n",
      "Cycle Efficiency: 0.213 \n"
     ]
    }
   ],
   "source": [
    "# Rankine with Co2 at 267K, with no reheat no regeneration\n",
    "R22 = Rankine(150e5, 1300, 30e5, 'CarbonDioxide', eta_pump=0.90, eta_turb=0.90, eta_regen=0.00)\n",
    "R22.compute()"
   ]
  },
  {
   "cell_type": "code",
   "execution_count": 69,
   "metadata": {},
   "outputs": [
    {
     "name": "stdout",
     "output_type": "stream",
     "text": [
      "State 1, P:  3000.0 kPa, T: 267.60 K, h: 186 kJ/kg, s: 0.95 kJ/kg, Q: 0.00\n",
      "State 2, P: 15000.0 kPa, T: 276.22 K, h: 200 kJ/kg, s: 0.96 kJ/kg, , Q: 0.00\n",
      "State 3, P: 15000.0 kPa, T: 687.93 K, h: 874 kJ/kg, s: 2.89 kJ/kg, , Q: 1.00\n",
      "State 4, P: 15000.0 kPa, T: 1300.00 K, h: 1646 kJ/kg, s: 3.38 kJ/kg, , Q: 1.00\n",
      "State 5, P: 3000.0 kPa, T: 1048.35 K, h: 1324 kJ/kg, s: 3.42 kJ/kg, , Q: 1.00\n",
      "State 6, P: 3000.0 kPa, T: 465.71 K, h: 650 kJ/kg, s: 2.49 kJ/kg, , Q: 1.00\n",
      "-------------------------------------------------------------------\n",
      "Heat Input : 771 kJ/kg\n",
      "Net Work   : 308 kJ/kg\n",
      "Heat Output: 463 kJ/kg\n",
      "-------------------------------------------------------------------\n",
      "Cycle Efficiency: 0.399 \n"
     ]
    }
   ],
   "source": [
    "# Rankine with Co2 at 267K, with no reheat, with regeneration\n",
    "R23 = Rankine(150e5, 1300, 30e5, 'CarbonDioxide', eta_pump=0.90, eta_turb=0.90, eta_regen=0.60)\n",
    "R23.compute()"
   ]
  },
  {
   "cell_type": "code",
   "execution_count": 70,
   "metadata": {},
   "outputs": [
    {
     "name": "stdout",
     "output_type": "stream",
     "text": [
      "State 1, P:  3000.0 kPa, T: 267.60 K, h: 186 kJ/kg, s: 0.95 kJ/kg, Q: 0.00\n",
      "State 2, P: 15000.0 kPa, T: 276.22 K, h: 200 kJ/kg, s: 0.96 kJ/kg, , Q: 0.00\n",
      "State 3, P: 15000.0 kPa, T: 919.18 K, h: 1157 kJ/kg, s: 2.94 kJ/kg, , Q: 1.00\n",
      "State 4, P: 15000.0 kPa, T: 1300.00 K, h: 1646 kJ/kg, s: 3.38 kJ/kg, , Q: 1.00\n",
      "State 5, P: 6708.2 kPa, T: 1167.42 K, h: 1474 kJ/kg, s: 3.40 kJ/kg, , Q: 1.00\n",
      "State 6, P: 6708.2 kPa, T: 1300.00 K, h: 1646 kJ/kg, s: 3.54 kJ/kg, , Q: 1.00\n",
      "State 7, P: 3000.0 kPa, T: 1168.54 K, h: 1476 kJ/kg, s: 3.55 kJ/kg, , Q: 1.00\n",
      "State 8, P: 3000.0 kPa, T: 339.20 K, h: 519 kJ/kg, s: 2.16 kJ/kg, , Q: 1.00\n",
      "-------------------------------------------------------------------\n",
      "Heat Input : 660 kJ/kg\n",
      "Net Work   : 327 kJ/kg\n",
      "Heat Output: 332 kJ/kg\n",
      "-------------------------------------------------------------------\n",
      "Cycle Efficiency: 0.496 \n"
     ]
    }
   ],
   "source": [
    "# Rankine with Co2 at 267K, with reheat and regeneration\n",
    "R24 = Rankine(150e5, 1300, 30e5, 'CarbonDioxide', eta_pump=0.90, eta_turb=0.90, eta_regen=0.75, reheat=True)\n",
    "R24.compute()"
   ]
  },
  {
   "cell_type": "code",
   "execution_count": 71,
   "metadata": {},
   "outputs": [
    {
     "name": "stdout",
     "output_type": "stream",
     "text": [
      "State 1, P:  600.0 kPa, T: 220.03 K, h: 86 kJ/kg, s: 0.55 kJ/kg, Q: 0.00\n",
      "State 2, P: 15000.0 kPa, T: 224.97 K, h: 100 kJ/kg, s: 0.56 kJ/kg, , Q: 0.00\n",
      "State 3, P: 15000.0 kPa, T: 224.97 K, h: 100 kJ/kg, s: 0.61 kJ/kg, , Q: 1.00\n",
      "State 4, P: 15000.0 kPa, T: 1300.00 K, h: 1646 kJ/kg, s: 3.38 kJ/kg, , Q: 1.00\n",
      "State 5, P: 600.0 kPa, T: 844.66 K, h: 1077 kJ/kg, s: 3.46 kJ/kg, , Q: 1.00\n",
      "State 6, P: 600.0 kPa, T: 844.66 K, h: 1077 kJ/kg, s: 3.46 kJ/kg, , Q: 1.00\n",
      "-------------------------------------------------------------------\n",
      "Heat Input : 1545 kJ/kg\n",
      "Net Work   : 555 kJ/kg\n",
      "Heat Output: 990 kJ/kg\n",
      "-------------------------------------------------------------------\n",
      "Cycle Efficiency: 0.359 \n"
     ]
    }
   ],
   "source": [
    "# Rankine with Co2 at 220K, with no reheat no regeneration\n",
    "R25 = Rankine(150e5, 1300, 6e5, 'CarbonDioxide', eta_pump=0.90, eta_turb=0.90, eta_regen=0.00)\n",
    "R25.compute()"
   ]
  },
  {
   "cell_type": "code",
   "execution_count": 72,
   "metadata": {},
   "outputs": [
    {
     "name": "stdout",
     "output_type": "stream",
     "text": [
      "State 1, P:  600.0 kPa, T: 220.03 K, h: 86 kJ/kg, s: 0.55 kJ/kg, Q: 0.00\n",
      "State 2, P: 15000.0 kPa, T: 224.97 K, h: 100 kJ/kg, s: 0.56 kJ/kg, , Q: 0.00\n",
      "State 3, P: 15000.0 kPa, T: 530.90 K, h: 686 kJ/kg, s: 2.87 kJ/kg, , Q: 1.00\n",
      "State 4, P: 15000.0 kPa, T: 1300.00 K, h: 1646 kJ/kg, s: 3.38 kJ/kg, , Q: 1.00\n",
      "State 5, P: 600.0 kPa, T: 844.66 K, h: 1077 kJ/kg, s: 3.46 kJ/kg, , Q: 1.00\n",
      "State 6, P: 600.0 kPa, T: 286.87 K, h: 491 kJ/kg, s: 2.36 kJ/kg, , Q: 1.00\n",
      "-------------------------------------------------------------------\n",
      "Heat Input : 959 kJ/kg\n",
      "Net Work   : 555 kJ/kg\n",
      "Heat Output: 404 kJ/kg\n",
      "-------------------------------------------------------------------\n",
      "Cycle Efficiency: 0.579 \n"
     ]
    }
   ],
   "source": [
    "# Rankine with Co2 at 220K, with no reheat, with regeneration\n",
    "R26 = Rankine(150e5, 1300, 6e5, 'CarbonDioxide', eta_pump=0.90, eta_turb=0.90, eta_regen=0.60)\n",
    "R26.compute()"
   ]
  },
  {
   "cell_type": "code",
   "execution_count": 73,
   "metadata": {},
   "outputs": [
    {
     "name": "stdout",
     "output_type": "stream",
     "text": [
      "State 1, P:  600.0 kPa, T: 220.03 K, h: 86 kJ/kg, s: 0.55 kJ/kg, Q: 0.00\n",
      "State 2, P: 15000.0 kPa, T: 224.97 K, h: 100 kJ/kg, s: 0.56 kJ/kg, , Q: 0.00\n",
      "State 3, P: 15000.0 kPa, T: 809.06 K, h: 1021 kJ/kg, s: 2.78 kJ/kg, , Q: 1.00\n",
      "State 4, P: 15000.0 kPa, T: 1300.00 K, h: 1646 kJ/kg, s: 3.38 kJ/kg, , Q: 1.00\n",
      "State 5, P: 3000.0 kPa, T: 1048.35 K, h: 1324 kJ/kg, s: 3.42 kJ/kg, , Q: 1.00\n",
      "State 6, P: 3000.0 kPa, T: 1300.00 K, h: 1646 kJ/kg, s: 3.69 kJ/kg, , Q: 1.00\n",
      "State 7, P: 600.0 kPa, T: 1050.84 K, h: 1328 kJ/kg, s: 3.73 kJ/kg, , Q: 1.00\n",
      "State 8, P: 600.0 kPa, T: 220.03 K, h: 407 kJ/kg, s: 2.01 kJ/kg, , Q: 1.00\n",
      "-------------------------------------------------------------------\n",
      "Heat Input : 946 kJ/kg\n",
      "Net Work   : 625 kJ/kg\n",
      "Heat Output: 320 kJ/kg\n",
      "-------------------------------------------------------------------\n",
      "Cycle Efficiency: 0.661 \n"
     ]
    }
   ],
   "source": [
    "# Rankine with Co2 at 220K, with reheat and regeneration\n",
    "R27 = Rankine(150e5, 1300, 6e5, 'CarbonDioxide', eta_pump=0.90, eta_turb=0.90, eta_regen=0.75, reheat=True)\n",
    "R27.compute()"
   ]
  },
  {
   "cell_type": "code",
   "execution_count": 74,
   "metadata": {},
   "outputs": [
    {
     "name": "stdout",
     "output_type": "stream",
     "text": [
      "State 1, P:  100.0 kPa, T: 87.18 K, h: -117 kJ/kg, s: 1.37 kJ/kg, Q: 0.00\n",
      "State 2, P: 15000.0 kPa, T: 91.83 K, h: -105 kJ/kg, s: 1.39 kJ/kg, , Q: 0.00\n",
      "State 3, P: 15000.0 kPa, T: 91.83 K, h: -105 kJ/kg, s: 1.51 kJ/kg, , Q: 1.00\n",
      "State 4, P: 15000.0 kPa, T: 1300.00 K, h: 682 kJ/kg, s: 3.60 kJ/kg, , Q: 1.00\n",
      "State 5, P: 100.0 kPa, T: 288.38 K, h: 149 kJ/kg, s: 3.86 kJ/kg, , Q: 1.00\n",
      "State 6, P: 100.0 kPa, T: 288.38 K, h: 149 kJ/kg, s: 3.86 kJ/kg, , Q: 1.00\n",
      "-------------------------------------------------------------------\n",
      "Heat Input : 788 kJ/kg\n",
      "Net Work   : 520 kJ/kg\n",
      "Heat Output: 267 kJ/kg\n",
      "-------------------------------------------------------------------\n",
      "Cycle Efficiency: 0.661 \n"
     ]
    }
   ],
   "source": [
    "# Rankine with Ar at 1 bar, with no reheat no regeneration\n",
    "R28 = Rankine(150e5, 1300, 1e5, 'Argon', eta_pump=0.90, eta_turb=0.90, eta_regen=0.00)\n",
    "R28.compute()"
   ]
  },
  {
   "cell_type": "code",
   "execution_count": 75,
   "metadata": {},
   "outputs": [
    {
     "name": "stdout",
     "output_type": "stream",
     "text": [
      "State 1, P:  100.0 kPa, T: 87.18 K, h: -117 kJ/kg, s: 1.37 kJ/kg, Q: 0.00\n",
      "State 2, P: 15000.0 kPa, T: 91.83 K, h: -105 kJ/kg, s: 1.39 kJ/kg, , Q: 0.00\n",
      "State 3, P: 15000.0 kPa, T: 190.80 K, h: 21 kJ/kg, s: 2.98 kJ/kg, , Q: 1.00\n",
      "State 4, P: 15000.0 kPa, T: 1300.00 K, h: 682 kJ/kg, s: 3.60 kJ/kg, , Q: 1.00\n",
      "State 5, P: 100.0 kPa, T: 288.38 K, h: 149 kJ/kg, s: 3.86 kJ/kg, , Q: 1.00\n",
      "State 6, P: 100.0 kPa, T: 87.18 K, h: 21 kJ/kg, s: 2.98 kJ/kg, , Q: 1.00\n",
      "-------------------------------------------------------------------\n",
      "Heat Input : 660 kJ/kg\n",
      "Net Work   : 520 kJ/kg\n",
      "Heat Output: 139 kJ/kg\n",
      "-------------------------------------------------------------------\n",
      "Cycle Efficiency: 0.789 \n"
     ]
    }
   ],
   "source": [
    "# Rankine with Ar at 1 bar, with no reheat, regeneration\n",
    "R29 = Rankine(150e5, 1300, 1e5, 'Argon', eta_pump=0.90, eta_turb=0.90, eta_regen=0.50)\n",
    "R29.compute()"
   ]
  },
  {
   "cell_type": "code",
   "execution_count": 76,
   "metadata": {},
   "outputs": [
    {
     "name": "stdout",
     "output_type": "stream",
     "text": [
      "State 1, P:  100.0 kPa, T: 87.18 K, h: -117 kJ/kg, s: 1.37 kJ/kg, Q: 0.00\n",
      "State 2, P: 15000.0 kPa, T: 91.83 K, h: -105 kJ/kg, s: 1.39 kJ/kg, , Q: 0.00\n",
      "State 3, P: 15000.0 kPa, T: 363.35 K, h: 172 kJ/kg, s: 2.89 kJ/kg, , Q: 1.00\n",
      "State 4, P: 15000.0 kPa, T: 1300.00 K, h: 682 kJ/kg, s: 3.60 kJ/kg, , Q: 1.00\n",
      "State 5, P: 1224.7 kPa, T: 560.31 K, h: 291 kJ/kg, s: 3.68 kJ/kg, , Q: 1.00\n",
      "State 6, P: 1224.7 kPa, T: 1300.00 K, h: 676 kJ/kg, s: 4.12 kJ/kg, , Q: 1.00\n",
      "State 7, P: 100.0 kPa, T: 559.56 K, h: 291 kJ/kg, s: 4.20 kJ/kg, , Q: 1.00\n",
      "State 8, P: 100.0 kPa, T: 87.18 K, h: 13 kJ/kg, s: 2.87 kJ/kg, , Q: 1.00\n",
      "-------------------------------------------------------------------\n",
      "Heat Input : 896 kJ/kg\n",
      "Net Work   : 765 kJ/kg\n",
      "Heat Output: 130 kJ/kg\n",
      "-------------------------------------------------------------------\n",
      "Cycle Efficiency: 0.854 \n"
     ]
    }
   ],
   "source": [
    "# Rankine with Ar at 1 bar, with  reheat, regeneration\n",
    "R30 = Rankine(150e5, 1300, 1e5, 'Argon', eta_pump=0.90, eta_turb=0.90, eta_regen=0.70, reheat=True)\n",
    "R30.compute()"
   ]
  },
  {
   "cell_type": "code",
   "execution_count": 77,
   "metadata": {},
   "outputs": [
    {
     "name": "stdout",
     "output_type": "stream",
     "text": [
      "State 1, P:  100.0 kPa, T: 4.21 K, h: 0 kJ/kg, s: 0.01 kJ/kg, Q: 0.00\n",
      "State 2, P: 15000.0 kPa, T: 12.07 K, h: 92 kJ/kg, s: 0.87 kJ/kg, , Q: 0.00\n",
      "State 3, P: 15000.0 kPa, T: 12.07 K, h: 92 kJ/kg, s: 13.08 kJ/kg, , Q: 1.00\n",
      "State 4, P: 15000.0 kPa, T: 1300.00 K, h: 6798 kJ/kg, s: 25.25 kJ/kg, , Q: 1.00\n",
      "State 5, P: 100.0 kPa, T: 288.66 K, h: 1504 kJ/kg, s: 27.84 kJ/kg, , Q: 1.00\n",
      "State 6, P: 100.0 kPa, T: 288.66 K, h: 1504 kJ/kg, s: 27.84 kJ/kg, , Q: 1.00\n",
      "-------------------------------------------------------------------\n",
      "Heat Input : 6705 kJ/kg\n",
      "Net Work   : 5201 kJ/kg\n",
      "Heat Output: 1504 kJ/kg\n",
      "-------------------------------------------------------------------\n",
      "Cycle Efficiency: 0.776 \n"
     ]
    }
   ],
   "source": [
    "# Rankine with He at 1 bar, with no reheat no regeneration\n",
    "R31 = Rankine(150e5, 1300, 1e5, 'Helium', eta_pump=0.90, eta_turb=0.90, eta_regen=0.00)\n",
    "R31.compute()"
   ]
  },
  {
   "cell_type": "code",
   "execution_count": 78,
   "metadata": {},
   "outputs": [
    {
     "name": "stdout",
     "output_type": "stream",
     "text": [
      "State 1, P:  100.0 kPa, T: 4.21 K, h: 0 kJ/kg, s: 0.01 kJ/kg, Q: 0.00\n",
      "State 2, P: 15000.0 kPa, T: 12.07 K, h: 92 kJ/kg, s: 0.87 kJ/kg, , Q: 0.00\n",
      "State 3, P: 15000.0 kPa, T: 198.11 K, h: 1080 kJ/kg, s: 26.11 kJ/kg, , Q: 1.00\n",
      "State 4, P: 15000.0 kPa, T: 1300.00 K, h: 6798 kJ/kg, s: 25.25 kJ/kg, , Q: 1.00\n",
      "State 5, P: 100.0 kPa, T: 288.66 K, h: 1504 kJ/kg, s: 27.84 kJ/kg, , Q: 1.00\n",
      "State 6, P: 100.0 kPa, T: 98.33 K, h: 516 kJ/kg, s: 22.24 kJ/kg, , Q: 1.00\n",
      "-------------------------------------------------------------------\n",
      "Heat Input : 5717 kJ/kg\n",
      "Net Work   : 5201 kJ/kg\n",
      "Heat Output: 515 kJ/kg\n",
      "-------------------------------------------------------------------\n",
      "Cycle Efficiency: 0.910 \n"
     ]
    }
   ],
   "source": [
    "# Rankine with He at 1 bar, with no reheat, regeneration\n",
    "R32 = Rankine(150e5, 1300, 1e5, 'Helium', eta_pump=0.90, eta_turb=0.90, eta_regen=0.70)\n",
    "R32.compute()"
   ]
  },
  {
   "cell_type": "code",
   "execution_count": 79,
   "metadata": {},
   "outputs": [
    {
     "name": "stdout",
     "output_type": "stream",
     "text": [
      "State 1, P:  100.0 kPa, T: 4.21 K, h: 0 kJ/kg, s: 0.01 kJ/kg, Q: 0.00\n",
      "State 2, P: 15000.0 kPa, T: 12.07 K, h: 92 kJ/kg, s: 0.87 kJ/kg, , Q: 0.00\n",
      "State 3, P: 15000.0 kPa, T: 507.03 K, h: 2686 kJ/kg, s: 20.37 kJ/kg, , Q: 1.00\n",
      "State 4, P: 15000.0 kPa, T: 1300.00 K, h: 6798 kJ/kg, s: 25.25 kJ/kg, , Q: 1.00\n",
      "State 5, P: 1224.7 kPa, T: 560.67 K, h: 2920 kJ/kg, s: 26.08 kJ/kg, , Q: 1.00\n",
      "State 6, P: 1224.7 kPa, T: 1300.00 K, h: 6759 kJ/kg, s: 30.45 kJ/kg, , Q: 1.00\n",
      "State 7, P: 100.0 kPa, T: 559.60 K, h: 2911 kJ/kg, s: 31.27 kJ/kg, , Q: 1.00\n",
      "State 8, P: 100.0 kPa, T: 60.20 K, h: 317 kJ/kg, s: 19.69 kJ/kg, , Q: 1.00\n",
      "-------------------------------------------------------------------\n",
      "Heat Input : 7951 kJ/kg\n",
      "Net Work   : 7633 kJ/kg\n",
      "Heat Output: 317 kJ/kg\n",
      "-------------------------------------------------------------------\n",
      "Cycle Efficiency: 0.960 \n"
     ]
    }
   ],
   "source": [
    "# Rankine with He at 1 bar, with reheat, regeneration\n",
    "R33 = Rankine(150e5, 1300, 1e5, 'Helium', eta_pump=0.90, eta_turb=0.90, eta_regen=0.92, reheat=True)\n",
    "R33.compute()"
   ]
  },
  {
   "cell_type": "code",
   "execution_count": 80,
   "metadata": {},
   "outputs": [
    {
     "name": "stdout",
     "output_type": "stream",
     "text": [
      "State 1, P:  100.0 kPa, T: 27.06 K, h: 0 kJ/kg, s: -0.00 kJ/kg, Q: 0.00\n",
      "State 2, P: 15000.0 kPa, T: 30.22 K, h: 13 kJ/kg, s: 0.04 kJ/kg, , Q: 0.00\n",
      "State 3, P: 15000.0 kPa, T: 30.22 K, h: 13 kJ/kg, s: 0.50 kJ/kg, , Q: 1.00\n",
      "State 4, P: 15000.0 kPa, T: 1300.00 K, h: 1409 kJ/kg, s: 5.13 kJ/kg, , Q: 1.00\n",
      "State 5, P: 100.0 kPa, T: 288.87 K, h: 357 kJ/kg, s: 5.65 kJ/kg, , Q: 1.00\n",
      "State 6, P: 100.0 kPa, T: 288.87 K, h: 357 kJ/kg, s: 5.65 kJ/kg, , Q: 1.00\n",
      "-------------------------------------------------------------------\n",
      "Heat Input : 1396 kJ/kg\n",
      "Net Work   : 1039 kJ/kg\n",
      "Heat Output: 357 kJ/kg\n",
      "-------------------------------------------------------------------\n",
      "Cycle Efficiency: 0.744 \n"
     ]
    }
   ],
   "source": [
    "# Rankine with Ne at 1 bar, with no reheat no regeneration\n",
    "R34 = Rankine(150e5, 1300, 1e5, 'Neon', eta_pump=0.90, eta_turb=0.90, eta_regen=0.00)\n",
    "R34.compute()"
   ]
  },
  {
   "cell_type": "code",
   "execution_count": 81,
   "metadata": {},
   "outputs": [
    {
     "name": "stdout",
     "output_type": "stream",
     "text": [
      "State 1, P:  100.0 kPa, T: 27.06 K, h: 0 kJ/kg, s: -0.00 kJ/kg, Q: 0.00\n",
      "State 2, P: 15000.0 kPa, T: 30.22 K, h: 13 kJ/kg, s: 0.04 kJ/kg, , Q: 0.00\n",
      "State 3, P: 15000.0 kPa, T: 189.98 K, h: 254 kJ/kg, s: 5.21 kJ/kg, , Q: 1.00\n",
      "State 4, P: 15000.0 kPa, T: 1300.00 K, h: 1409 kJ/kg, s: 5.13 kJ/kg, , Q: 1.00\n",
      "State 5, P: 100.0 kPa, T: 288.87 K, h: 357 kJ/kg, s: 5.65 kJ/kg, , Q: 1.00\n",
      "State 6, P: 100.0 kPa, T: 55.78 K, h: 116 kJ/kg, s: 3.95 kJ/kg, , Q: 1.00\n",
      "-------------------------------------------------------------------\n",
      "Heat Input : 1155 kJ/kg\n",
      "Net Work   : 1039 kJ/kg\n",
      "Heat Output: 116 kJ/kg\n",
      "-------------------------------------------------------------------\n",
      "Cycle Efficiency: 0.899 \n"
     ]
    }
   ],
   "source": [
    "# Rankine with Ne at 1 bar, with no reheat, regeneration\n",
    "R35 = Rankine(150e5, 1300, 1e5, 'Neon', eta_pump=0.90, eta_turb=0.90, eta_regen=0.70)\n",
    "R35.compute()"
   ]
  },
  {
   "cell_type": "code",
   "execution_count": 82,
   "metadata": {},
   "outputs": [
    {
     "name": "stdout",
     "output_type": "stream",
     "text": [
      "State 1, P:  100.0 kPa, T: 27.06 K, h: 0 kJ/kg, s: -0.00 kJ/kg, Q: 0.00\n",
      "State 2, P: 15000.0 kPa, T: 30.22 K, h: 13 kJ/kg, s: 0.04 kJ/kg, , Q: 0.00\n",
      "State 3, P: 15000.0 kPa, T: 490.95 K, h: 573 kJ/kg, s: 4.13 kJ/kg, , Q: 1.00\n",
      "State 4, P: 15000.0 kPa, T: 1300.00 K, h: 1409 kJ/kg, s: 5.13 kJ/kg, , Q: 1.00\n",
      "State 5, P: 1224.7 kPa, T: 560.89 K, h: 638 kJ/kg, s: 5.30 kJ/kg, , Q: 1.00\n",
      "State 6, P: 1224.7 kPa, T: 1300.00 K, h: 1399 kJ/kg, s: 6.17 kJ/kg, , Q: 1.00\n",
      "State 7, P: 100.0 kPa, T: 559.62 K, h: 636 kJ/kg, s: 6.33 kJ/kg, , Q: 1.00\n",
      "State 8, P: 100.0 kPa, T: 27.06 K, h: 75 kJ/kg, s: 2.80 kJ/kg, , Q: 1.00\n",
      "-------------------------------------------------------------------\n",
      "Heat Input : 1597 kJ/kg\n",
      "Net Work   : 1521 kJ/kg\n",
      "Heat Output: 75 kJ/kg\n",
      "-------------------------------------------------------------------\n",
      "Cycle Efficiency: 0.953 \n"
     ]
    }
   ],
   "source": [
    "# Rankine with Ne at 1 bar, with reheat, regeneration\n",
    "R36 = Rankine(150e5, 1300, 1e5, 'Neon', eta_pump=0.90, eta_turb=0.90, eta_regen=0.90, reheat=True)\n",
    "R36.compute()"
   ]
  },
  {
   "cell_type": "code",
   "execution_count": 83,
   "metadata": {},
   "outputs": [
    {
     "name": "stdout",
     "output_type": "stream",
     "text": [
      "State 1, P:  100.0 kPa, T: 119.57 K, h: 0 kJ/kg, s: -0.00 kJ/kg, Q: 0.00\n",
      "State 2, P: 15000.0 kPa, T: 125.26 K, h: 6 kJ/kg, s: 0.00 kJ/kg, , Q: 0.00\n",
      "State 3, P: 15000.0 kPa, T: 125.26 K, h: 6 kJ/kg, s: 0.06 kJ/kg, , Q: 1.00\n",
      "State 4, P: 15000.0 kPa, T: 1300.00 K, h: 402 kJ/kg, s: 0.99 kJ/kg, , Q: 1.00\n",
      "State 5, P: 100.0 kPa, T: 287.48 K, h: 149 kJ/kg, s: 1.12 kJ/kg, , Q: 1.00\n",
      "State 6, P: 100.0 kPa, T: 287.48 K, h: 149 kJ/kg, s: 1.12 kJ/kg, , Q: 1.00\n",
      "-------------------------------------------------------------------\n",
      "Heat Input : 396 kJ/kg\n",
      "Net Work   : 246 kJ/kg\n",
      "Heat Output: 149 kJ/kg\n",
      "-------------------------------------------------------------------\n",
      "Cycle Efficiency: 0.622 \n"
     ]
    }
   ],
   "source": [
    "# Rankine with Kr at 1 bar, with no reheat no regeneration\n",
    "R37 = Rankine(150e5, 1300, 1e5, 'Krypton', eta_pump=0.90, eta_turb=0.90, eta_regen=0.00)\n",
    "R37.compute()"
   ]
  },
  {
   "cell_type": "code",
   "execution_count": 84,
   "metadata": {},
   "outputs": [
    {
     "name": "stdout",
     "output_type": "stream",
     "text": [
      "State 1, P:  100.0 kPa, T: 119.57 K, h: 0 kJ/kg, s: -0.00 kJ/kg, Q: 0.00\n",
      "State 2, P: 15000.0 kPa, T: 125.26 K, h: 6 kJ/kg, s: 0.00 kJ/kg, , Q: 0.00\n",
      "State 3, P: 15000.0 kPa, T: 242.74 K, h: 78 kJ/kg, s: 0.65 kJ/kg, , Q: 1.00\n",
      "State 4, P: 15000.0 kPa, T: 1300.00 K, h: 402 kJ/kg, s: 0.99 kJ/kg, , Q: 1.00\n",
      "State 5, P: 100.0 kPa, T: 287.48 K, h: 149 kJ/kg, s: 1.12 kJ/kg, , Q: 1.00\n",
      "State 6, P: 100.0 kPa, T: 119.57 K, h: 78 kJ/kg, s: 0.65 kJ/kg, , Q: 1.00\n",
      "-------------------------------------------------------------------\n",
      "Heat Input : 324 kJ/kg\n",
      "Net Work   : 246 kJ/kg\n",
      "Heat Output: 78 kJ/kg\n",
      "-------------------------------------------------------------------\n",
      "Cycle Efficiency: 0.759 \n"
     ]
    }
   ],
   "source": [
    "# Rankine with Kr at 1 bar, with no reheat, regeneration\n",
    "R38 = Rankine(150e5, 1300, 1e5, 'Krypton', eta_pump=0.90, eta_turb=0.90, eta_regen=0.50)\n",
    "R38.compute()"
   ]
  },
  {
   "cell_type": "code",
   "execution_count": 85,
   "metadata": {},
   "outputs": [
    {
     "name": "stdout",
     "output_type": "stream",
     "text": [
      "State 1, P:  100.0 kPa, T: 119.57 K, h: 0 kJ/kg, s: -0.00 kJ/kg, Q: 0.00\n",
      "State 2, P: 15000.0 kPa, T: 125.26 K, h: 6 kJ/kg, s: 0.00 kJ/kg, , Q: 0.00\n",
      "State 3, P: 15000.0 kPa, T: 381.08 K, h: 154 kJ/kg, s: 0.65 kJ/kg, , Q: 1.00\n",
      "State 4, P: 15000.0 kPa, T: 1300.00 K, h: 402 kJ/kg, s: 0.99 kJ/kg, , Q: 1.00\n",
      "State 5, P: 1224.7 kPa, T: 559.54 K, h: 216 kJ/kg, s: 1.03 kJ/kg, , Q: 1.00\n",
      "State 6, P: 1224.7 kPa, T: 1300.00 K, h: 401 kJ/kg, s: 1.25 kJ/kg, , Q: 1.00\n",
      "State 7, P: 100.0 kPa, T: 559.48 K, h: 217 kJ/kg, s: 1.28 kJ/kg, , Q: 1.00\n",
      "State 8, P: 100.0 kPa, T: 119.57 K, h: 69 kJ/kg, s: 0.58 kJ/kg, , Q: 1.00\n",
      "-------------------------------------------------------------------\n",
      "Heat Input : 433 kJ/kg\n",
      "Net Work   : 363 kJ/kg\n",
      "Heat Output: 69 kJ/kg\n",
      "-------------------------------------------------------------------\n",
      "Cycle Efficiency: 0.839 \n"
     ]
    }
   ],
   "source": [
    "# Rankine with Kr at 1 bar, with no reheat, regeneration\n",
    "R39 = Rankine(150e5, 1300, 1e5, 'Krypton', eta_pump=0.90, eta_turb=0.90, eta_regen=0.70, reheat=True)\n",
    "R39.compute()"
   ]
  },
  {
   "cell_type": "code",
   "execution_count": 86,
   "metadata": {},
   "outputs": [
    {
     "name": "stdout",
     "output_type": "stream",
     "text": [
      "State 1, P:  100.0 kPa, T: 164.82 K, h: 0 kJ/kg, s: -0.00 kJ/kg, Q: 0.00\n",
      "State 2, P: 15000.0 kPa, T: 171.93 K, h: 5 kJ/kg, s: 0.00 kJ/kg, , Q: 0.00\n",
      "State 3, P: 15000.0 kPa, T: 171.93 K, h: 5 kJ/kg, s: 0.03 kJ/kg, , Q: 1.00\n",
      "State 4, P: 15000.0 kPa, T: 1300.00 K, h: 275 kJ/kg, s: 0.59 kJ/kg, , Q: 1.00\n",
      "State 5, P: 100.0 kPa, T: 285.13 K, h: 115 kJ/kg, s: 0.67 kJ/kg, , Q: 1.00\n",
      "State 6, P: 100.0 kPa, T: 285.13 K, h: 115 kJ/kg, s: 0.67 kJ/kg, , Q: 1.00\n",
      "-------------------------------------------------------------------\n",
      "Heat Input : 270 kJ/kg\n",
      "Net Work   : 154 kJ/kg\n",
      "Heat Output: 115 kJ/kg\n",
      "-------------------------------------------------------------------\n",
      "Cycle Efficiency: 0.573 \n"
     ]
    }
   ],
   "source": [
    "# Rankine with Xe at 1 bar, with no reheat no regeneration\n",
    "R40 = Rankine(150e5, 1300, 1e5, 'Xenon', eta_pump=0.90, eta_turb=0.90, eta_regen=0.00)\n",
    "R40.compute()"
   ]
  },
  {
   "cell_type": "code",
   "execution_count": 87,
   "metadata": {},
   "outputs": [
    {
     "name": "stdout",
     "output_type": "stream",
     "text": [
      "State 1, P:  100.0 kPa, T: 164.82 K, h: 0 kJ/kg, s: -0.00 kJ/kg, Q: 0.00\n",
      "State 2, P: 15000.0 kPa, T: 171.93 K, h: 5 kJ/kg, s: 0.00 kJ/kg, , Q: 0.00\n",
      "State 3, P: 15000.0 kPa, T: 316.33 K, h: 60 kJ/kg, s: 0.37 kJ/kg, , Q: 1.00\n",
      "State 4, P: 15000.0 kPa, T: 1300.00 K, h: 275 kJ/kg, s: 0.59 kJ/kg, , Q: 1.00\n",
      "State 5, P: 100.0 kPa, T: 285.13 K, h: 115 kJ/kg, s: 0.67 kJ/kg, , Q: 1.00\n",
      "State 6, P: 100.0 kPa, T: 164.82 K, h: 60 kJ/kg, s: 0.37 kJ/kg, , Q: 1.00\n",
      "-------------------------------------------------------------------\n",
      "Heat Input : 215 kJ/kg\n",
      "Net Work   : 154 kJ/kg\n",
      "Heat Output: 60 kJ/kg\n",
      "-------------------------------------------------------------------\n",
      "Cycle Efficiency: 0.719 \n"
     ]
    }
   ],
   "source": [
    "# Rankine with Xe at 1 bar, with no reheat, with regeneration\n",
    "R41 = Rankine(150e5, 1300, 1e5, 'Xenon', eta_pump=0.90, eta_turb=0.90, eta_regen=0.50)\n",
    "R41.compute()"
   ]
  },
  {
   "cell_type": "code",
   "execution_count": 88,
   "metadata": {},
   "outputs": [
    {
     "name": "stdout",
     "output_type": "stream",
     "text": [
      "State 1, P:  100.0 kPa, T: 164.82 K, h: 0 kJ/kg, s: -0.00 kJ/kg, Q: 0.00\n",
      "State 2, P: 15000.0 kPa, T: 171.93 K, h: 5 kJ/kg, s: 0.00 kJ/kg, , Q: 0.00\n",
      "State 3, P: 15000.0 kPa, T: 354.90 K, h: 82 kJ/kg, s: 0.50 kJ/kg, , Q: 1.00\n",
      "State 4, P: 15000.0 kPa, T: 1300.00 K, h: 275 kJ/kg, s: 0.59 kJ/kg, , Q: 1.00\n",
      "State 5, P: 100.0 kPa, T: 285.13 K, h: 115 kJ/kg, s: 0.67 kJ/kg, , Q: 1.00\n",
      "State 6, P: 100.0 kPa, T: 164.82 K, h: 38 kJ/kg, s: 0.23 kJ/kg, , Q: 1.00\n",
      "-------------------------------------------------------------------\n",
      "Heat Input : 193 kJ/kg\n",
      "Net Work   : 154 kJ/kg\n",
      "Heat Output: 38 kJ/kg\n",
      "-------------------------------------------------------------------\n",
      "Cycle Efficiency: 0.801 \n"
     ]
    }
   ],
   "source": [
    "# Rankine with Xe at 1 bar, with no reheat, with regeneration\n",
    "R42 = Rankine(150e5, 1300, 1e5, 'Xenon', eta_pump=0.90, eta_turb=0.90, eta_regen=0.70)\n",
    "R42.compute()"
   ]
  },
  {
   "cell_type": "code",
   "execution_count": 89,
   "metadata": {},
   "outputs": [
    {
     "name": "stderr",
     "output_type": "stream",
     "text": [
      "The PostScript backend does not support transparency; partially transparent artists will be rendered opaque.\n",
      "The PostScript backend does not support transparency; partially transparent artists will be rendered opaque.\n"
     ]
    },
    {
     "data": {
      "image/png": "[encoded data removed]",
      "text/plain": [
       "<Figure size 720x576 with 1 Axes>"
      ]
     },
     "metadata": {
      "needs_background": "light"
     },
     "output_type": "display_data"
    }
   ],
   "source": [
    "fig = plt.figure(figsize=(10,8))\n",
    "plt.rc('font',family='Times New Roman')\n",
    "params = {'mathtext.default': 'regular' }\n",
    "plt.rcParams.update(params)\n",
    "\n",
    "plt.plot(T1_arr, B1_arr, color='red', marker='o', mfc='none', markeredgewidth=3, markersize=16, linestyle='solid')\n",
    "plt.plot(T2_arr, B2_arr, color='red', marker='s', mfc='none', markeredgewidth=3, markersize=16, linestyle='solid')\n",
    "plt.plot(T3_arr, B3_arr, color='red', marker='^', mfc='none', markeredgewidth=3, markersize=16, linestyle='solid')\n",
    "\n",
    "plt.plot(T4_arr, B4_arr, color='green',  marker='o', mfc='none', markeredgewidth=3, markersize=16, linestyle='solid')\n",
    "plt.plot(T5_arr, B5_arr, color='green',  marker='s', mfc='none', markeredgewidth=3, markersize=16, linestyle='solid')\n",
    "plt.plot(T6_arr, B6_arr, color='green',  marker='^', mfc='none', markeredgewidth=3, markersize=16, linestyle='solid')\n",
    "\n",
    "plt.plot(T4A_arr, B4A_arr, color='xkcd:tangerine',  marker='o', mfc='none', markeredgewidth=3, markersize=16, linestyle='solid')\n",
    "plt.plot(T5A_arr, B5A_arr, color='xkcd:tangerine',  marker='s', mfc='none', markeredgewidth=3, markersize=16, linestyle='solid')\n",
    "plt.plot(T6A_arr, B6A_arr, color='xkcd:tangerine',  marker='^', mfc='none', markeredgewidth=3, markersize=16, linestyle='solid')\n",
    "\n",
    "\n",
    "plt.plot(np.array([R19.T1, R1.T1, R13.T1, R16.T1]), np.array([R19.eff, R1.eff, R13.eff, R16.eff]), color='k', marker='o', mfc='none', markeredgewidth=3, markersize=16, linestyle='solid')\n",
    "plt.plot(np.array([R20.T1, R2.T1, R14.T1, R17.T1]), np.array([R20.eff, R2.eff, R14.eff, R17.eff, ]), color='k', marker='s', mfc='none', markeredgewidth=3, markersize=16, linestyle='solid')\n",
    "plt.plot(np.array([R21.T1, R3.T1, R15.T1, R18.T1]), np.array([R21.eff, R3.eff, R15.eff, R18.eff]), color='k', marker='^', mfc='none', markeredgewidth=3, markersize=16, linestyle='solid')\n",
    "\n",
    "\n",
    "plt.plot(R4.T1, R4.eff, color='xkcd:rich blue', marker='o', mfc='none', markeredgewidth=3, markersize=16, linestyle='none')\n",
    "plt.plot(R5.T1, R5.eff, color='xkcd:rich blue', marker='s', mfc='none', markeredgewidth=3, markersize=16, linestyle='none')\n",
    "plt.plot(R6.T1, R6.eff, color='xkcd:rich blue', marker='^', mfc='none', markeredgewidth=3, markersize=16, linestyle='none')\n",
    "\n",
    "plt.plot(R7.T1, R7.eff, color='k', marker='o', mfc='none', markeredgewidth=3, markersize=16, linestyle='none', label='Non-ideal')\n",
    "plt.plot(R8.T1, R8.eff, color='k', marker='s', mfc='none', markeredgewidth=3, markersize=16, linestyle='none', label='With regeneration')\n",
    "plt.plot(R9.T1, R9.eff, color='k', marker='^', mfc='none', markeredgewidth=3, markersize=16, linestyle='none', label='With reheat (Rankine), \\n' + 'reheat-intercooling (Brayton)')\n",
    "\n",
    "plt.plot(R28.T1, R28.eff, color='xkcd:bright purple', marker='o', mfc='none', markeredgewidth=3, markersize=16, linestyle='dashed')\n",
    "plt.plot(R29.T1, R29.eff, color='xkcd:bright purple', marker='s', mfc='none', markeredgewidth=3, markersize=16, linestyle='dashed')\n",
    "plt.plot(R30.T1, R30.eff, color='xkcd:bright purple', marker='^', mfc='none', markeredgewidth=3, markersize=16, linestyle='dashed')\n",
    "\n",
    "plt.plot(R31.T1, R31.eff, color='xkcd:darkish red', marker='o', mfc='none', markeredgewidth=3, markersize=16, linestyle='dashed')\n",
    "plt.plot(R32.T1, R32.eff, color='xkcd:darkish red', marker='s', mfc='none', markeredgewidth=3, markersize=16, linestyle='dashed')\n",
    "plt.plot(R33.T1, R33.eff, color='xkcd:darkish red', marker='^', mfc='none', markeredgewidth=3, markersize=16, linestyle='dashed')\n",
    "\n",
    "plt.plot(R34.T1, R34.eff, color='xkcd:greenblue', marker='o', mfc='none', markeredgewidth=3, markersize=16, linestyle='dashed')\n",
    "plt.plot(R35.T1, R35.eff, color='xkcd:greenblue', marker='s', mfc='none', markeredgewidth=3, markersize=16, linestyle='dashed')\n",
    "plt.plot(R36.T1, R36.eff, color='xkcd:greenblue', marker='^', mfc='none', markeredgewidth=3, markersize=16, linestyle='dashed')\n",
    "\n",
    "plt.plot(R37.T1, R37.eff, color='xkcd:pinky', marker='o', mfc='none', markeredgewidth=3, markersize=16, linestyle='dashed')\n",
    "plt.plot(R38.T1, R38.eff, color='xkcd:pinky', marker='s', mfc='none', markeredgewidth=3, markersize=16, linestyle='dashed')\n",
    "plt.plot(R39.T1, R39.eff, color='xkcd:pinky', marker='^', mfc='none', markeredgewidth=3, markersize=16, linestyle='dashed')\n",
    "\n",
    "plt.plot(R40.T1, R40.eff, color='xkcd:azure', marker='o', mfc='none', markeredgewidth=3, markersize=16, linestyle='dashed')\n",
    "plt.plot(R41.T1, R41.eff, color='xkcd:azure', marker='s', mfc='none', markeredgewidth=3, markersize=16, linestyle='dashed')\n",
    "plt.plot(R42.T1, R42.eff, color='xkcd:azure', marker='^', mfc='none', markeredgewidth=3, markersize=16, linestyle='dashed')\n",
    "\n",
    "\n",
    "plt.plot(np.array([R25.T1, R10.T1, R22.T1]), np.array([R25.eff, R10.eff, R22.eff]), color='m', marker='o', mfc='none', markeredgewidth=3, markersize=16, linestyle='solid')\n",
    "plt.plot(np.array([R26.T1, R11.T1, R23.T1]), np.array([R26.eff, R11.eff, R23.eff]), color='m', marker='s', mfc='none', markeredgewidth=3, markersize=16, linestyle='solid')\n",
    "plt.plot(np.array([R27.T1, R12.T1, R24.T1]), np.array([R27.eff, R12.eff, R24.eff]), color='m', marker='^', mfc='none', markeredgewidth=3, markersize=16, linestyle='solid')\n",
    "\n",
    "plt.plot(T7_arr, S1_arr, color='xkcd:bright blue', marker='D', mfc='none', linewidth=3, markeredgewidth=3, markersize=16, linestyle='dashed')\n",
    "plt.plot(T8_arr, S2_arr, color='xkcd:bright pink', marker='D', mfc='none', linewidth=3, markeredgewidth=3, markersize=16, linestyle='dashed')\n",
    "\n",
    "#plt.plot(T9_arr, S3_arr, color='xkcd:bright blue', marker='D', mfc='none', linewidth=1.5, markeredgewidth=1.5, markersize=16, linestyle='dashed')\n",
    "plt.plot(T10_arr, S4_arr, color='xkcd:bright pink', marker='D', mfc='none', linewidth=1.5, markeredgewidth=1.5, markersize=16, linestyle='dashed')\n",
    "\n",
    "plt.plot(0, 0, color='k', marker='D', mfc='none', linewidth=3, markeredgewidth=3, markersize=16, linestyle='none', label='Pseudo-Stirling')\n",
    "\n",
    "plt.xlabel(r'$T_C, K$',fontsize=16)\n",
    "plt.ylabel('Thermal efficiency', fontsize=16)\n",
    "\n",
    "ax=plt.gca()\n",
    "ax.set_yticks(np.array([0.2,0.3,0.4,0.5,0.6,0.7,0.8,0.9,1.0]))\n",
    "ax.tick_params(direction='in')\n",
    "ax.yaxis.set_ticks_position('both')\n",
    "ax.xaxis.set_ticks_position('both')\n",
    "ax.tick_params(axis='x',labelsize=16)\n",
    "ax.tick_params(axis='y',labelsize=16)\n",
    "\n",
    "plt.legend(loc='upper right', fontsize=16)\n",
    "\n",
    "plt.text(360, 0.78, 'Rankine \\n'+r'$(H_2O)$', ha='center', va='center', fontsize=16)\n",
    "plt.text(R4.T1+4, 0.97, 'Rankine \\n'+r'$(N_2)$', ha='center', va='center', fontsize=16, color='xkcd:rich blue')\n",
    "plt.text(R7.T1+4, 1.03, 'Rankine \\n'+r'$(H_2)$', ha='center', va='center', fontsize=16)\n",
    "plt.text(R10.T1, 0.24, 'Rankine \\n'+r'$(CO_2)$', ha='center', va='center', fontsize=16, color='magenta')\n",
    "plt.text(100, 0.90, 'Rankine \\n'+r'$(Ar)$', ha='center', va='center', fontsize=16, color='xkcd:bright purple')\n",
    "plt.text(-5, 1.01, r'$(He)$', ha='center', va='center', fontsize=16, color='xkcd:darkish red')\n",
    "plt.text(45,0.96, r'$(Ne)$', ha='center', va='center', fontsize=16, color='xkcd:greenblue')\n",
    "plt.text(123,0.875, r'$(Kr)$', ha='center', va='center', fontsize=16, color='xkcd:pinky')\n",
    "plt.text(R40.T1, 0.87, 'Rankine \\n'+r'$(Xe)$', ha='center', va='center', fontsize=16, color='xkcd:azure')\n",
    "plt.text(340, 0.54 , 'Brayton '+r'$(air)$', ha='center', va='center', fontsize=16, color='red')\n",
    "plt.text(170, 0.45 , 'Brayton '+r'$(He)$', ha='center', va='center', fontsize=16, color='green')\n",
    "plt.text(180, 0.33 , 'Brayton '+r'$(H_2)$', ha='center', va='center', fontsize=16, color='xkcd:tangerine')\n",
    "plt.text(200, 0.77 , 'Stirling \\n'+r'$(He, \\epsilon=0.95)$', ha='center', va='center', fontsize=16, color='xkcd:bright pink')\n",
    "plt.text(260, 0.71 , 'Stirling \\n'+r'$(H_2,  \\epsilon=0.95)$', ha='center', va='center', fontsize=16, color='xkcd:bright blue')\n",
    "plt.text(0, 0.68 , r'$(\\epsilon=0.85)$', ha='center', va='center', fontsize=16, color='xkcd:bright pink')\n",
    "\n",
    "\n",
    "plt.ylim([0.1, 1.10])\n",
    "plt.xlim([-30, 415])\n",
    "\n",
    "plt.title(r'$T_H = 1300 K$', fontsize=16)\n",
    "\n",
    "plt.text(10, 0.30, r'$\\pi$'+ ' = 10 (Brayton)', fontsize=16, ha='left')\n",
    "plt.text(10, 0.25, r'$P_{max}$' + ' = 150 bar (Rankine)', fontsize=16, ha='left')\n",
    "plt.text(10, 0.20, r'$\\eta_{comp}$'+ ' = '+r'$\\eta_{turb}$'+ ' = '+r'$\\eta_{pump}$'+ ' = 0.90', fontsize=16, va='center', ha='left')\n",
    "plt.text(10, 0.15, r'$\\eta_{regen}$'+ ' = 0.60' + ' '+ r'(0.80 for reheat)' + ', '+ r'$\\eta_{regen}$'+ ' = [0.85,0.95]' + ' '+ r'(Pseudo-Stirling)' , fontsize=16, va='center', ha='left')\n",
    "\n",
    "\n",
    "for axis in ['top', 'bottom', 'left', 'right']:\n",
    "    ax.spines[axis].set_linewidth(2)\n",
    "    \n",
    "ax.xaxis.grid(which='major', color='k', linestyle='dotted', linewidth=0.5)\n",
    "ax.xaxis.grid(which='minor', color='k', linestyle='dotted', linewidth=0.5)\n",
    "\n",
    "ax.yaxis.grid(which='major', color='k', linestyle='dotted', linewidth=0.5)\n",
    "ax.yaxis.grid(which='minor', color='k', linestyle='dotted', linewidth=0.5)\n",
    "\n",
    "ax.xaxis.set_tick_params(length=5, width=2)\n",
    "ax.yaxis.set_tick_params(length=5, width=2)\n",
    "\n",
    "plt.savefig('summary-chart-8.png', dpi=300, bbox_inches='tight')\n",
    "plt.savefig('summary-chart-8.pdf', dpi=300,bbox_inches='tight')\n",
    "plt.savefig('summary-chart-8.eps', dpi=300,bbox_inches='tight')"
   ]
  },
  {
   "cell_type": "code",
   "execution_count": 90,
   "metadata": {},
   "outputs": [],
   "source": [
    "# Rankine cycle for H2 with no reheat, no regeneration.\n",
    "\n",
    "R43 = Rankine(150e5, 1300, 0.15e5, 'Hydrogen', eta_pump=0.90, eta_turb=0.90, eta_regen=0.00)\n",
    "R44 = Rankine(150e5, 1300, 0.15e5, 'Hydrogen', eta_pump=0.90, eta_turb=0.90, eta_regen=0.60)\n",
    "R45 = Rankine(150e5, 1300, 0.15e5, 'Hydrogen', eta_pump=0.90, eta_turb=0.90, eta_regen=0.90, reheat=True)\n",
    "\n",
    "R46 = Rankine(150e5, 1300, 0.15e5, 'Hydrogen', eta_pump=0.90, eta_turb=0.90, eta_regen=0.00)\n",
    "R47 = Rankine(150e5, 1300, 0.15e5, 'Hydrogen', eta_pump=0.90, eta_turb=0.90, eta_regen=0.60)\n",
    "R48 = Rankine(150e5, 1300, 0.15e5, 'Hydrogen', eta_pump=0.90, eta_turb=0.90, eta_regen=0.93, reheat=True)\n",
    "\n",
    "R49 = Rankine(150e5, 1300, 0.15e5, 'Hydrogen', eta_pump=0.90, eta_turb=0.90, eta_regen=0.00)\n",
    "R50 = Rankine(150e5, 1300, 0.15e5, 'Hydrogen', eta_pump=0.90, eta_turb=0.90, eta_regen=0.60)\n",
    "R51 = Rankine(150e5, 1300, 0.15e5, 'Hydrogen', eta_pump=0.90, eta_turb=0.90, eta_regen=0.96, reheat=True)\n",
    "\n",
    "\n",
    "eta_turb_arr = np.linspace(0.80, 0.98, 11)\n",
    "\n",
    "R43_eff = np.array([])\n",
    "R44_eff = np.array([])\n",
    "R45_eff = np.array([])\n",
    "\n",
    "\n",
    "R46_eff = np.array([])\n",
    "R47_eff = np.array([])\n",
    "R48_eff = np.array([])\n",
    "\n",
    "R49_eff = np.array([])\n",
    "R50_eff = np.array([])\n",
    "R51_eff = np.array([])\n",
    "\n",
    "for eta_turb in eta_turb_arr:\n",
    "    R43.eta_turb = eta_turb\n",
    "    R43.compute(verbose=False)\n",
    "    R43_eff = np.append(R43_eff, R43.eff)\n",
    "    \n",
    "    R44.eta_turb = eta_turb\n",
    "    R44.compute(verbose=False)\n",
    "    R44_eff = np.append(R44_eff, R44.eff)\n",
    "    \n",
    "    R45.eta_turb = eta_turb\n",
    "    R45.compute(verbose=False)\n",
    "    R45_eff = np.append(R45_eff, R45.eff)\n",
    "    \n",
    "    R46.eta_turb = eta_turb\n",
    "    R46.compute(verbose=False)\n",
    "    R46_eff = np.append(R46_eff, R46.eff)\n",
    "    \n",
    "    R47.eta_turb = eta_turb\n",
    "    R47.compute(verbose=False)\n",
    "    R47_eff = np.append(R47_eff, R47.eff)\n",
    "    \n",
    "    R48.eta_turb = eta_turb\n",
    "    R48.compute(verbose=False)\n",
    "    R48_eff = np.append(R48_eff, R48.eff)\n",
    "    \n",
    "    R49.eta_turb = eta_turb\n",
    "    R49.compute(verbose=False)\n",
    "    R49_eff = np.append(R49_eff, R49.eff)\n",
    "    \n",
    "    R50.eta_turb = eta_turb\n",
    "    R50.compute(verbose=False)\n",
    "    R50_eff = np.append(R50_eff, R50.eff)\n",
    "    \n",
    "    R51.eta_turb = eta_turb\n",
    "    R51.compute(verbose=False)\n",
    "    R51_eff = np.append(R51_eff, R51.eff)"
   ]
  },
  {
   "cell_type": "code",
   "execution_count": 91,
   "metadata": {},
   "outputs": [
    {
     "name": "stderr",
     "output_type": "stream",
     "text": [
      "The PostScript backend does not support transparency; partially transparent artists will be rendered opaque.\n",
      "The PostScript backend does not support transparency; partially transparent artists will be rendered opaque.\n"
     ]
    },
    {
     "data": {
      "image/png": "[encoded data removed]",
      "text/plain": [
       "<Figure size 720x576 with 1 Axes>"
      ]
     },
     "metadata": {
      "needs_background": "light"
     },
     "output_type": "display_data"
    }
   ],
   "source": [
    "fig = plt.figure(figsize=(10,8))\n",
    "plt.rc('font',family='Times New Roman')\n",
    "params = {'mathtext.default': 'regular' }\n",
    "plt.rcParams.update(params)\n",
    "\n",
    "#plt.plot(eta_turb_arr, R43_eff, color='k', marker='o', mfc='none', markeredgewidth=3, markersize=16, linestyle='solid', label='Non-ideal')\n",
    "#plt.plot(eta_turb_arr, R44_eff, color='k', marker='s', mfc='none', markeredgewidth=3, markersize=16, linestyle='solid', label='With regeneration')\n",
    "\n",
    "plt.plot(eta_turb_arr, R45_eff, color='k', marker='s', mfc='none', markeredgewidth=3, markersize=16, linestyle='solid', label=r'$\\eta_{regen.} = 0.90$')\n",
    "plt.plot(eta_turb_arr, R48_eff, color='k', marker='o', mfc='none', markeredgewidth=3, markersize=16, linestyle='solid', label=r'$\\eta_{regen.} = 0.93$')\n",
    "plt.plot(eta_turb_arr, R51_eff, color='k', marker='^', mfc='none', markeredgewidth=3, markersize=16, linestyle='solid', label=r'$\\eta_{regen.} = 0.96$')\n",
    "\n",
    "\n",
    "ax=plt.gca()\n",
    "#ax.set_yticks(np.array([0.2,0.3,0.4,0.5,0.6,0.7,0.8,0.9,1.0]))\n",
    "ax.tick_params(direction='in')\n",
    "ax.yaxis.set_ticks_position('both')\n",
    "ax.xaxis.set_ticks_position('both')\n",
    "ax.tick_params(axis='x',labelsize=16)\n",
    "ax.tick_params(axis='y',labelsize=16)\n",
    "\n",
    "plt.xlabel(r'Turbine Efficiency',fontsize=16)\n",
    "plt.ylabel('Thermal Efficiency', fontsize=16)\n",
    "\n",
    "plt.title(r'Hydrogen Rankine Cycle with Reheat, '+r'$T_H=1300K$', fontsize=16)\n",
    "         \n",
    "plt.legend(loc='lower right', fontsize=16)\n",
    "\n",
    "for axis in ['top', 'bottom', 'left', 'right']:\n",
    "    ax.spines[axis].set_linewidth(2)\n",
    "    \n",
    "ax.xaxis.grid(which='major', color='k', linestyle='dotted', linewidth=0.5)\n",
    "ax.xaxis.grid(which='minor', color='k', linestyle='dotted', linewidth=0.5)\n",
    "\n",
    "ax.yaxis.grid(which='major', color='k', linestyle='dotted', linewidth=0.5)\n",
    "ax.yaxis.grid(which='minor', color='k', linestyle='dotted', linewidth=0.5)\n",
    "\n",
    "ax.xaxis.set_tick_params(length=5, width=2)\n",
    "ax.yaxis.set_tick_params(length=5, width=2)\n",
    "\n",
    "plt.savefig('reheated-H2-rankine.png', dpi=300, bbox_inches='tight')\n",
    "plt.savefig('reheated-H2-rankine.pdf', dpi=300,bbox_inches='tight')\n",
    "plt.savefig('reheated-H2-rankine.eps', dpi=300,bbox_inches='tight')"
   ]
  },
  {
   "cell_type": "code",
   "execution_count": 92,
   "metadata": {
    "scrolled": true
   },
   "outputs": [
    {
     "name": "stdout",
     "output_type": "stream",
     "text": [
      "State 1, P:  15.0 kPa, T: 15.30 K, h: -44 kJ/kg, s: -2.41 kJ/kg, Q: 0.00\n",
      "State 2, P: 15000.0 kPa, T: 21.85 K, h: 164 kJ/kg, s: -1.39 kJ/kg, , Q: 0.00\n",
      "State 3, P: 15000.0 kPa, T: 487.26 K, h: 6775 kJ/kg, s: 39.84 kJ/kg, , Q: 1.00\n",
      "State 4, P: 15000.0 kPa, T: 1300.00 K, h: 18909 kJ/kg, s: 54.42 kJ/kg, , Q: 1.00\n",
      "State 5, P: 474.3 kPa, T: 514.46 K, h: 7062 kJ/kg, s: 54.89 kJ/kg, , Q: 1.00\n",
      "State 6, P: 474.3 kPa, T: 1300.00 K, h: 18781 kJ/kg, s: 68.65 kJ/kg, , Q: 1.00\n",
      "State 7, P: 15.0 kPa, T: 513.85 K, h: 7050 kJ/kg, s: 69.12 kJ/kg, , Q: 1.00\n",
      "State 8, P: 15.0 kPa, T: 17.93 K, h: 439 kJ/kg, s: 29.07 kJ/kg, , Q: 1.00\n",
      "-------------------------------------------------------------------\n",
      "Heat Input : 23853 kJ/kg\n",
      "Net Work   : 23369 kJ/kg\n",
      "Heat Output: 483 kJ/kg\n",
      "-------------------------------------------------------------------\n",
      "Cycle Efficiency: 0.980 \n"
     ]
    }
   ],
   "source": [
    "R52 = Rankine(150e5, 1300, 0.15e5, 'Hydrogen', eta_pump=0.90, eta_turb=0.98, eta_regen=0.96, reheat=True)\n",
    "R52.compute()"
   ]
  },
  {
   "cell_type": "code",
   "execution_count": null,
   "metadata": {},
   "outputs": [],
   "source": []
  }
 ],
 "metadata": {
  "kernelspec": {
   "display_name": "Python 3",
   "language": "python",
   "name": "python3"
  },
  "language_info": {
   "codemirror_mode": {
    "name": "ipython",
    "version": 3
   },
   "file_extension": ".py",
   "mimetype": "text/x-python",
   "name": "python",
   "nbconvert_exporter": "python",
   "pygments_lexer": "ipython3",
   "version": "3.7.3"
  }
 },
 "nbformat": 4,
 "nbformat_minor": 2
}
